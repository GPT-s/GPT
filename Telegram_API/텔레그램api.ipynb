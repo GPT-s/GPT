{
 "cells": [
  {
   "cell_type": "code",
   "execution_count": 52,
   "id": "18d291df",
   "metadata": {},
   "outputs": [],
   "source": [
    "# !pip install python-telegram-bot==13.13"
   ]
  },
  {
   "cell_type": "code",
   "execution_count": 53,
   "id": "77a6575c",
   "metadata": {},
   "outputs": [],
   "source": [
    "# !pip uninstall python-telegram-bot telegram"
   ]
  },
  {
   "cell_type": "code",
   "execution_count": 54,
   "id": "d7410206",
   "metadata": {},
   "outputs": [],
   "source": [
    "import requests\n",
    "import telegram\n",
    "from telegram.ext import Updater, CommandHandler\n",
    "import time\n",
    "import datetime\n",
    "import logging\n",
    "from telegram import Bot,Update"
   ]
  },
  {
   "cell_type": "code",
   "execution_count": 58,
   "id": "8b5ab603",
   "metadata": {
    "scrolled": true
   },
   "outputs": [],
   "source": [
    "token = \"6297598995:AAF1kW0FinpGn737xiag1ESOtVUWZUQfTpA\""
   ]
  },
  {
   "cell_type": "code",
   "execution_count": 55,
   "id": "e6bb08f1",
   "metadata": {
    "scrolled": true
   },
   "outputs": [],
   "source": [
    "# 채팅내역 받아오는 코드\n",
    "# 채팅내역이 없으면 message_text = \"null\"\n",
    "# 채팅내역이 있으면 message_text = 마지막으로 쓴 채팅문구\n",
    "url = \"https://api.telegram.org/bot6297598995:AAF1kW0FinpGn737xiag1ESOtVUWZUQfTpA/getUpdates\"\n",
    "response = requests.get(url)\n",
    "response_dict = response.json()\n",
    "if (response_dict['result'] == []) == True:\n",
    "    message_text = \"null\"    \n",
    "else :\n",
    "    message_text = response_dict['result'][-1]['message']['text']"
   ]
  },
  {
   "cell_type": "code",
   "execution_count": 56,
   "id": "80bef2d9",
   "metadata": {},
   "outputs": [],
   "source": [
    "# 채팅아이디 받아오는 코드\n",
    "# 채팅내역이 없으면 chat_id = \"null\"\n",
    "# 채팅내역이 있으면 chat_id = 마지막채팅의 chat_id\n",
    "url = \"https://api.telegram.org/bot6297598995:AAF1kW0FinpGn737xiag1ESOtVUWZUQfTpA/getUpdates\"\n",
    "response = requests.get(url)\n",
    "response_dict = response.json()\n",
    "if(response_dict['result'] == []) == True:\n",
    "    chat_id = \"null\"\n",
    "else :\n",
    "    chat_id = response_dict['result'][-1]['message']['from']['id']"
   ]
  },
  {
   "cell_type": "code",
   "execution_count": 57,
   "id": "394e47f8",
   "metadata": {},
   "outputs": [],
   "source": [
    "def send_message(chat_id, text):\n",
    "    url = \"https://api.telegram.org/bot6297598995:AAF1kW0FinpGn737xiag1ESOtVUWZUQfTpA/sendMessage\"\n",
    "    params = {\"chat_id\": chat_id, \"text\": text}\n",
    "    response = requests.post(url, params=params)\n",
    "    return response.json()"
   ]
  },
  {
   "cell_type": "code",
   "execution_count": 59,
   "id": "10e2ac49",
   "metadata": {
    "scrolled": true
   },
   "outputs": [],
   "source": [
    "def start(bot: Bot, Update):\n",
    "    logging.info('>>> start')\n",
    "    send_message(chat_id, text='환영합니다')\n",
    "\n",
    "\n",
    "def stop(bot, Update):\n",
    "    logging.info('>>> stop')\n",
    "    send_message(chat_id, text='종료합니다')\n",
    "\n",
    "\n",
    "def search(bot, Update, args):\n",
    "    logging.info('>>> search')\n",
    "    keywords = 'keywords:'\n",
    "    for arg in args:\n",
    "        keywords += '\\n - {}'.format(arg)\n",
    "    send_message(chat_id, text=keywords)\n",
    "\n",
    "\n",
    "def main():\n",
    "    updater = Updater(token)\n",
    "    updater.dispatcher.add_handler(CommandHandler('start', start))\n",
    "    updater.dispatcher.add_handler(CommandHandler('stop', stop))\n",
    "    updater.dispatcher.add_handler(CommandHandler('search', search, pass_args=True))\n",
    "    updater.start_polling()\n",
    "    updater.idle()"
   ]
  },
  {
   "cell_type": "code",
   "execution_count": 60,
   "id": "46c82c76",
   "metadata": {},
   "outputs": [],
   "source": [
    "if message_text == \"하이\" :\n",
    "    send_message(chat_id, \"안녕친구야\")"
   ]
  },
  {
   "cell_type": "code",
   "execution_count": 61,
   "id": "f95f6885",
   "metadata": {
    "scrolled": true
   },
   "outputs": [
    {
     "name": "stderr",
     "output_type": "stream",
     "text": [
      "INFO:apscheduler.scheduler:Scheduler started\n",
      "INFO:root:>>> start\n",
      "INFO:telegram.ext.updater:Received signal 2 (SIGINT), stopping...\n",
      "INFO:apscheduler.scheduler:Scheduler has been shut down\n"
     ]
    }
   ],
   "source": [
    "if __name__ == '__main__':\n",
    "    logging.basicConfig(level=logging.INFO)\n",
    "    main()"
   ]
  },
  {
   "cell_type": "code",
   "execution_count": null,
   "id": "f14f3f2d",
   "metadata": {},
   "outputs": [],
   "source": []
  },
  {
   "cell_type": "code",
   "execution_count": null,
   "id": "6403c43d",
   "metadata": {},
   "outputs": [],
   "source": []
  },
  {
   "cell_type": "code",
   "execution_count": null,
   "id": "eed9dfbb",
   "metadata": {},
   "outputs": [],
   "source": []
  },
  {
   "cell_type": "code",
   "execution_count": null,
   "id": "38e2e7a6",
   "metadata": {},
   "outputs": [],
   "source": []
  },
  {
   "cell_type": "code",
   "execution_count": null,
   "id": "f4e574ea",
   "metadata": {},
   "outputs": [],
   "source": []
  },
  {
   "cell_type": "code",
   "execution_count": null,
   "id": "59df3ba5",
   "metadata": {},
   "outputs": [],
   "source": []
  }
 ],
 "metadata": {
  "kernelspec": {
   "display_name": "Python 3 (ipykernel)",
   "language": "python",
   "name": "python3"
  },
  "language_info": {
   "codemirror_mode": {
    "name": "ipython",
    "version": 3
   },
   "file_extension": ".py",
   "mimetype": "text/x-python",
   "name": "python",
   "nbconvert_exporter": "python",
   "pygments_lexer": "ipython3",
   "version": "3.9.13"
  },
  "toc": {
   "base_numbering": 1,
   "nav_menu": {},
   "number_sections": true,
   "sideBar": true,
   "skip_h1_title": false,
   "title_cell": "Table of Contents",
   "title_sidebar": "Contents",
   "toc_cell": false,
   "toc_position": {},
   "toc_section_display": true,
   "toc_window_display": false
  }
 },
 "nbformat": 4,
 "nbformat_minor": 5
}
