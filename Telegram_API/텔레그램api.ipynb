{
 "cells": [
  {
   "cell_type": "code",
   "execution_count": 2,
   "id": "d7410206",
   "metadata": {},
   "outputs": [],
   "source": [
    "import requests\n",
    "import telegram\n",
    "\n"
   ]
  },
  {
   "cell_type": "code",
   "execution_count": 1,
   "id": "18d291df",
   "metadata": {},
   "outputs": [
    {
     "name": "stdout",
     "output_type": "stream",
     "text": [
      "Collecting python-telegram-bot==13.13\n",
      "  Using cached python_telegram_bot-13.13-py3-none-any.whl (513 kB)\n",
      "Requirement already satisfied: cachetools==4.2.2 in c:\\users\\smhrd\\anaconda3\\lib\\site-packages (from python-telegram-bot==13.13) (4.2.2)\n",
      "Requirement already satisfied: certifi in c:\\users\\smhrd\\anaconda3\\lib\\site-packages (from python-telegram-bot==13.13) (2022.9.14)\n",
      "Requirement already satisfied: pytz>=2018.6 in c:\\users\\smhrd\\anaconda3\\lib\\site-packages (from python-telegram-bot==13.13) (2022.1)\n",
      "Requirement already satisfied: APScheduler==3.6.3 in c:\\users\\smhrd\\anaconda3\\lib\\site-packages (from python-telegram-bot==13.13) (3.6.3)\n",
      "Requirement already satisfied: tornado>=6.1 in c:\\users\\smhrd\\anaconda3\\lib\\site-packages (from python-telegram-bot==13.13) (6.1)\n",
      "Requirement already satisfied: six>=1.4.0 in c:\\users\\smhrd\\anaconda3\\lib\\site-packages (from APScheduler==3.6.3->python-telegram-bot==13.13) (1.16.0)\n",
      "Requirement already satisfied: tzlocal>=1.2 in c:\\users\\smhrd\\anaconda3\\lib\\site-packages (from APScheduler==3.6.3->python-telegram-bot==13.13) (4.3)\n",
      "Requirement already satisfied: setuptools>=0.7 in c:\\users\\smhrd\\anaconda3\\lib\\site-packages (from APScheduler==3.6.3->python-telegram-bot==13.13) (63.4.1)\n",
      "Requirement already satisfied: pytz-deprecation-shim in c:\\users\\smhrd\\anaconda3\\lib\\site-packages (from tzlocal>=1.2->APScheduler==3.6.3->python-telegram-bot==13.13) (0.1.0.post0)\n",
      "Requirement already satisfied: tzdata in c:\\users\\smhrd\\anaconda3\\lib\\site-packages (from tzlocal>=1.2->APScheduler==3.6.3->python-telegram-bot==13.13) (2023.3)\n",
      "Installing collected packages: python-telegram-bot\n",
      "Successfully installed python-telegram-bot-13.13\n"
     ]
    }
   ],
   "source": [
    "!pip install python-telegram-bot==13.13"
   ]
  },
  {
   "cell_type": "code",
   "execution_count": null,
   "id": "77a6575c",
   "metadata": {},
   "outputs": [],
   "source": [
    "!pip uninstall python-telegram-bot telegram"
   ]
  },
  {
   "cell_type": "code",
   "execution_count": 2,
   "id": "e6bb08f1",
   "metadata": {
    "scrolled": true
   },
   "outputs": [
    {
     "name": "stdout",
     "output_type": "stream",
     "text": [
      "안녕\n"
     ]
    }
   ],
   "source": [
    "import requests\n",
    "\n",
    "url = \"https://api.telegram.org/bot6297598995:AAF1kW0FinpGn737xiag1ESOtVUWZUQfTpA/getUpdates\"\n",
    "response = requests.get(url)\n",
    "response_dict = response.json()\n",
    "message_text = response_dict['result'][-1]['message']['text']\n",
    "\n",
    "print(message_text)"
   ]
  },
  {
   "cell_type": "code",
   "execution_count": 1,
   "id": "80bef2d9",
   "metadata": {},
   "outputs": [
    {
     "name": "stdout",
     "output_type": "stream",
     "text": [
      "6016803144\n"
     ]
    }
   ],
   "source": [
    "import requests\n",
    "\n",
    "url = \"https://api.telegram.org/bot6297598995:AAF1kW0FinpGn737xiag1ESOtVUWZUQfTpA/getUpdates\"\n",
    "response = requests.get(url)\n",
    "response_dict = response.json()\n",
    "chat_id = response_dict['result'][-1]['message']['from']['id']\n",
    "\n",
    "print(chat_id)"
   ]
  },
  {
   "cell_type": "code",
   "execution_count": 11,
   "id": "394e47f8",
   "metadata": {
    "collapsed": true
   },
   "outputs": [
    {
     "data": {
      "text/plain": [
       "{'ok': True,\n",
       " 'result': {'message_id': 273,\n",
       "  'from': {'id': 6297598995,\n",
       "   'is_bot': True,\n",
       "   'first_name': 'ChatBot_Project',\n",
       "   'username': 'StockChatGPT_Bot'},\n",
       "  'chat': {'id': 6016803144,\n",
       "   'first_name': '슬기',\n",
       "   'last_name': '류',\n",
       "   'type': 'private'},\n",
       "  'date': 1681209302,\n",
       "  'text': '내용'}}"
      ]
     },
     "execution_count": 11,
     "metadata": {},
     "output_type": "execute_result"
    }
   ],
   "source": [
    "def send_message(chat_id, text):\n",
    "    url = \"https://api.telegram.org/bot6297598995:AAF1kW0FinpGn737xiag1ESOtVUWZUQfTpA/sendMessage\"\n",
    "    params = {\"chat_id\": chat_id, \"text\": text}\n",
    "    response = requests.post(url, params=params)\n",
    "    return response.json()\n",
    "send_message(chat_id, \"내용\")"
   ]
  },
  {
   "cell_type": "code",
   "execution_count": 13,
   "id": "ac394be4",
   "metadata": {},
   "outputs": [
    {
     "name": "stdout",
     "output_type": "stream",
     "text": [
      "하이 철민\n",
      "5673934102\n"
     ]
    }
   ],
   "source": [
    "import requests\n",
    "\n",
    "url = \"https://api.telegram.org/bot6297598995:AAF1kW0FinpGn737xiag1ESOtVUWZUQfTpA/getUpdates\"\n",
    "response = requests.get(url)\n",
    "response_dict = response.json()\n",
    "message_text = response_dict['result'][-1]['message']['text']\n",
    "\n",
    "print(message_text)\n",
    "\n",
    "import requests\n",
    "\n",
    "url = f\"https://api.telegram.org/bot6297598995:AAF1kW0FinpGn737xiag1ESOtVUWZUQfTpA/getUpdates\"\n",
    "response = requests.get(url)\n",
    "response_dict = response.json()\n",
    "chat_id = response_dict['result'][-1]['message']['from']['id']\n",
    "\n",
    "print(chat_id)\n",
    "\n",
    "\n",
    "\n",
    "\n",
    "if message_text == \"하이 철민\" :\n",
    "    send_message(chat_id, \"안녕친구야\")"
   ]
  },
  {
   "cell_type": "code",
   "execution_count": 16,
   "id": "e61e6480",
   "metadata": {},
   "outputs": [],
   "source": [
    "from telegram.ext import Updater, CommandHandler\n",
    "import time\n",
    "import datetime\n",
    "import logging"
   ]
  },
  {
   "cell_type": "code",
   "execution_count": 4,
   "id": "8b5ab603",
   "metadata": {
    "scrolled": true
   },
   "outputs": [
    {
     "ename": "NameError",
     "evalue": "name 'update' is not defined",
     "output_type": "error",
     "traceback": [
      "\u001b[1;31m---------------------------------------------------------------------------\u001b[0m",
      "\u001b[1;31mNameError\u001b[0m                                 Traceback (most recent call last)",
      "\u001b[1;32m~\\AppData\\Local\\Temp\\ipykernel_3480\\4273202197.py\u001b[0m in \u001b[0;36m<module>\u001b[1;34m\u001b[0m\n\u001b[0;32m      1\u001b[0m \u001b[0mtoken\u001b[0m \u001b[1;33m=\u001b[0m \u001b[1;34m\"6297598995:AAF1kW0FinpGn737xiag1ESOtVUWZUQfTpA\"\u001b[0m\u001b[1;33m\u001b[0m\u001b[1;33m\u001b[0m\u001b[0m\n\u001b[1;32m----> 2\u001b[1;33m \u001b[0mupdate\u001b[0m \u001b[1;33m=\u001b[0m \u001b[0mupdate\u001b[0m\u001b[1;33m(\u001b[0m\u001b[0mtoken\u001b[0m\u001b[1;33m)\u001b[0m\u001b[1;33m\u001b[0m\u001b[1;33m\u001b[0m\u001b[0m\n\u001b[0m",
      "\u001b[1;31mNameError\u001b[0m: name 'update' is not defined"
     ]
    }
   ],
   "source": [
    "token = \"6297598995:AAF1kW0FinpGn737xiag1ESOtVUWZUQfTpA\"\n",
    "update = update(token)"
   ]
  },
  {
   "cell_type": "code",
   "execution_count": 22,
   "id": "48d1e573",
   "metadata": {},
   "outputs": [
    {
     "ename": "NameError",
     "evalue": "name 'Update_queue' is not defined",
     "output_type": "error",
     "traceback": [
      "\u001b[1;31m---------------------------------------------------------------------------\u001b[0m",
      "\u001b[1;31mNameError\u001b[0m                                 Traceback (most recent call last)",
      "\u001b[1;32m~\\AppData\\Local\\Temp\\ipykernel_9392\\766907854.py\u001b[0m in \u001b[0;36m<module>\u001b[1;34m\u001b[0m\n\u001b[1;32m----> 1\u001b[1;33m \u001b[0mUpdate_queue\u001b[0m\u001b[1;33m\u001b[0m\u001b[1;33m\u001b[0m\u001b[0m\n\u001b[0m",
      "\u001b[1;31mNameError\u001b[0m: name 'Update_queue' is not defined"
     ]
    }
   ],
   "source": [
    "update_queue"
   ]
  },
  {
   "cell_type": "code",
   "execution_count": null,
   "id": "10e2ac49",
   "metadata": {},
   "outputs": [],
   "source": [
    "def start(bot: Bot, update: Update):\n",
    "    logging.info('>>> start')\n",
    "    send_message(chat_id, text='welcome...')\n",
    "\n",
    "\n",
    "def stop(bot, update: Update):\n",
    "    logging.info('>>> stop')\n",
    "    send_message(chat_id, text='bye...')\n",
    "\n",
    "\n",
    "def search(bot, update: Update, args):\n",
    "    logging.info('>>> search')\n",
    "    keywords = 'keywords:'\n",
    "    for arg in args:\n",
    "        keywords += '\\n - {}'.format(arg)\n",
    "    send_message(chat_id, text=keywords)\n",
    "\n",
    "\n",
    "def main():\n",
    "    updater = Updater(TELEGRAM_BOT_TOKEN)\n",
    "    updater.dispatcher.add_handler(CommandHandler('start', start))\n",
    "    updater.dispatcher.add_handler(CommandHandler('stop', stop))\n",
    "    updater.dispatcher.add_handler(CommandHandler('search', search, pass_args=True))\n",
    "    updater.start_polling()\n",
    "    updater.idle()\n",
    "\n",
    "\n",
    "if __name__ == '__main__':\n",
    "    logging.basicConfig(level=logging.INFO)\n",
    "    main()"
   ]
  },
  {
   "cell_type": "code",
   "execution_count": null,
   "id": "46c82c76",
   "metadata": {},
   "outputs": [],
   "source": []
  },
  {
   "cell_type": "code",
   "execution_count": null,
   "id": "f95f6885",
   "metadata": {},
   "outputs": [],
   "source": []
  },
  {
   "cell_type": "code",
   "execution_count": null,
   "id": "f14f3f2d",
   "metadata": {},
   "outputs": [],
   "source": []
  },
  {
   "cell_type": "code",
   "execution_count": null,
   "id": "6403c43d",
   "metadata": {},
   "outputs": [],
   "source": []
  },
  {
   "cell_type": "code",
   "execution_count": null,
   "id": "eed9dfbb",
   "metadata": {},
   "outputs": [],
   "source": []
  },
  {
   "cell_type": "code",
   "execution_count": null,
   "id": "38e2e7a6",
   "metadata": {},
   "outputs": [],
   "source": []
  },
  {
   "cell_type": "code",
   "execution_count": null,
   "id": "f4e574ea",
   "metadata": {},
   "outputs": [],
   "source": []
  },
  {
   "cell_type": "code",
   "execution_count": null,
   "id": "59df3ba5",
   "metadata": {},
   "outputs": [],
   "source": []
  }
 ],
 "metadata": {
  "kernelspec": {
   "display_name": "Python 3 (ipykernel)",
   "language": "python",
   "name": "python3"
  },
  "language_info": {
   "codemirror_mode": {
    "name": "ipython",
    "version": 3
   },
   "file_extension": ".py",
   "mimetype": "text/x-python",
   "name": "python",
   "nbconvert_exporter": "python",
   "pygments_lexer": "ipython3",
   "version": "3.9.13"
  },
  "toc": {
   "base_numbering": 1,
   "nav_menu": {},
   "number_sections": true,
   "sideBar": true,
   "skip_h1_title": false,
   "title_cell": "Table of Contents",
   "title_sidebar": "Contents",
   "toc_cell": false,
   "toc_position": {},
   "toc_section_display": true,
   "toc_window_display": false
  }
 },
 "nbformat": 4,
 "nbformat_minor": 5
}
