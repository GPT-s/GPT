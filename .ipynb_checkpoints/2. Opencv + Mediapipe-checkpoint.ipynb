{
 "cells": [
  {
   "cell_type": "code",
   "execution_count": 21,
   "id": "c1eac4f6",
   "metadata": {},
   "outputs": [],
   "source": [
    "import cv2\n",
    "# mediapipe 사용하기\n",
    "import mediapipe as mp\n",
    "import numpy as np\n",
    "from sklearn.neighbors import KNeighborsClassifier\n",
    "\n",
    "gesture = {\n",
    "    0:'fist', 1:'one', 2:'two', 3:'three', 4:'four', 5:'five',\n",
    "    6:'six', 7:'rock', 8:'spiderman', 9:'yeah', 10:'ok',\n",
    "}\n",
    "\n",
    "rsp_gesture = {\n",
    "    0 : 'rock', 5 : 'paper', 9 :'scissors'\n",
    "}\n",
    "\n",
    "# 제스쳐 인식 모델 학습하기\n",
    "file = np.genfromtxt('opencv/gesture_train.csv', delimiter = ',') # 파일 불러오기\n",
    "angle = file[:,:-1].astype(np.float32) #15개 각도값 뺴오기\n",
    "label = file[:,-1].astype(np.float32) # 손 동작 라벨값 가져오기\n",
    "knn = KNeighborsClassifier(n_neighbors= 3) # knn 모델 불러오기\n",
    "knn.fit(angle, label) # 학습하기\n",
    "\n",
    "mp_hands = mp.solutions.hands # 관절의 값을 가져옴\n",
    "mp_drawing = mp.solutions.drawing_utils # 이미지에 관절 표시\n",
    "hands = mp_hands.Hands(\n",
    "    max_num_hands= 2, #최대로 인식할 손의 수\n",
    "    min_detection_confidence= 0.5, # 손의 관절\n",
    "    min_tracking_confidence = 0.5 # 손의 위치\n",
    ")\n",
    "\n",
    "cap = cv2.VideoCapture(0)\n",
    "\n",
    "while True:\n",
    "    ret, frame = cap.read()\n",
    "    frame = cv2.flip(frame,1) # 좌우 반전\n",
    "    \n",
    "    \n",
    "    \n",
    "    if not ret :\n",
    "        cap.release() # 동영상 연결 종료\n",
    "        cv2.destroyAllWindows() # 윈도우창 닫기\n",
    "        break\n",
    "        \n",
    "    result = hands.process(frame)\n",
    "    if result.multi_hand_landmarks is not None :\n",
    "        # 손가락에서 21개의 joint를 출력\n",
    "        rsp_result = []\n",
    "        \n",
    "        for res in result.multi_hand_landmarks:\n",
    "            \n",
    "            joint = np.zeros((21,3)) # joint의 x,y,z의 값을 담을 array 생성\n",
    "        \n",
    "            # joint array에 21개의 joint 값 삽입\n",
    "            for j, im in enumerate(res.landmark): # j는 인덱스번호\n",
    "                joint[j] = [lm.x, lm.y, lm.z]\n",
    "            \n",
    "            # joint들의 관절값 구하기\n",
    "            v1 = joint[[0,1,2,3,0,5,6,7,0,9,10,11,0,13,14,15,0,17,18,19],:] # Parent joint\n",
    "            v2 = joint[[1,2,3,4,5,6,7,8,9,10,11,12,13,14,15,16,17,18,19,20],:] # Child joint\n",
    "            v = v2 - v1 # [20,3]\n",
    "            # Normalize v 유클리디안 길이\n",
    "            v = v / np.linalg.norm(v, axis=1)[:, np.newaxis]\n",
    "            \n",
    "            # 관절값으로 관절 각도 구하기\n",
    "            angle = np.arccos(np.einsum('nt,nt->n',\n",
    "                v[[0,1,2,4,5,6,8,9,10,12,13,14,16,17,18],:], \n",
    "                v[[1,2,3,5,6,7,9,10,11,13,14,15,17,18,19],:])) # [15,]\n",
    "\n",
    "            angle = np.degrees(angle) # radian각도를 degree각도로 변경하기\n",
    "            \n",
    "            # 제스쳐 인식시키기\n",
    "            data = np.array([angle], dtype = np.float32)\n",
    "            predict = knn.predict(data) # 0 ~ 10의 행동중 하나로 예측\n",
    "            idx = int(predict)\n",
    "            \n",
    "#             cv2.putText(frame, text = gesture[idx].upper(),\n",
    "#                        org=(int(res.landmark[0].x * frame.shape[1]),\n",
    "#                             int(res.landmark[0].y * frame.shape[0] + 20)), \n",
    "#                         fontFace=cv2.FONT_HERSHEY_SIMPLEX, fontScale=1, \n",
    "#                         color=(255, 255, 255), \n",
    "#                         thickness=2\n",
    "#                        )\n",
    "\n",
    "            # 가위, 바위, 보가 인식되면 나오게 하기\n",
    "            if idx in rsp_gesture.keys():\n",
    "                cv2.putText(frame, text = rsp_gesture[idx].upper(),\n",
    "                           org=(int(res.landmark[0].x * frame.shape[1]),\n",
    "                                int(res.landmark[0].y * frame.shape[0] + 20)), \n",
    "                            fontFace=cv2.FONT_HERSHEY_SIMPLEX, fontScale=1, \n",
    "                            color=(255, 255, 255), \n",
    "                            thickness=2\n",
    "                           )\n",
    "                rsp_result.append({\n",
    "                    'rsp' : rsp_gesture[idx],\n",
    "                    'org' : (int(res.landmark[0].x * frame.shape[1]),\n",
    "                                int(res.landmark[0].y * frame.shape[0] + 20)) \n",
    "                            }\n",
    "                )\n",
    "            \n",
    "            mp_drawing.draw_landmarks(frame,res, mp_hands.HAND_CONNECTIONS)\n",
    "            if len(rsp_result) >= 2:\n",
    "                winner = None\n",
    "                text = ''\n",
    "\n",
    "                if rsp_result[0]['rsp']=='rock':\n",
    "                    if rsp_result[1]['rsp']=='rock'     : text = 'Tie'\n",
    "                    elif rsp_result[1]['rsp']=='paper'  : text = 'Paper wins'  ; winner = 1\n",
    "                    elif rsp_result[1]['rsp']=='scissors': text = 'Rock wins'   ; winner = 0\n",
    "                elif rsp_result[0]['rsp']=='paper':\n",
    "                    if rsp_result[1]['rsp']=='rock'     : text = 'Paper wins'  ; winner = 0\n",
    "                    elif rsp_result[1]['rsp']=='paper'  : text = 'Tie'\n",
    "                    elif rsp_result[1]['rsp']=='scissors': text = 'Scissors wins'; winner = 1\n",
    "                elif rsp_result[0]['rsp']=='scissors':\n",
    "                    if rsp_result[1]['rsp']=='rock'     : text = 'Rock wins'   ; winner = 1\n",
    "                    elif rsp_result[1]['rsp']=='paper'  : text = 'Scissors wins'; winner = 0\n",
    "                    elif rsp_result[1]['rsp']=='scissors': text = 'Tie'\n",
    "\n",
    "                if winner is not None:\n",
    "                    cv2.putText(frame, text='Winner', org=(rsp_result[winner]['org'][0], rsp_result[winner]['org'][1] + 70), fontFace=cv2.FONT_HERSHEY_SIMPLEX, fontScale=2, color=(0, 255, 0), thickness=3)\n",
    "                cv2.putText(frame, text=text, org=(int(frame.shape[1] / 3), 100), fontFace=cv2.FONT_HERSHEY_SIMPLEX, fontScale=2, color=(0, 0, 255), thickness=3)\n",
    "    \n",
    "    cv2.imshow('img',frame)\n",
    "    \n",
    "    k = cv2.waitKey(33)\n",
    "    \n",
    "    if k == 49:\n",
    "        cap.release() # 동영상 연결 종료\n",
    "        cv2.destroyAllWindows() # 윈도우창 닫기\n",
    "        break"
   ]
  },
  {
   "cell_type": "code",
   "execution_count": 12,
   "id": "742deebe",
   "metadata": {
    "collapsed": true
   },
   "outputs": [
    {
     "name": "stdout",
     "output_type": "stream",
     "text": [
      "Collecting scikit-learn\n",
      "  Downloading scikit_learn-1.2.2-cp38-cp38-win_amd64.whl (8.3 MB)\n",
      "     ---------------------------------------- 0.0/8.3 MB ? eta -:--:--\n",
      "     -- ------------------------------------- 0.5/8.3 MB 9.6 MB/s eta 0:00:01\n",
      "     ------ --------------------------------- 1.2/8.3 MB 13.3 MB/s eta 0:00:01\n",
      "     ----------- ---------------------------- 2.3/8.3 MB 16.4 MB/s eta 0:00:01\n",
      "     ----------------- ---------------------- 3.7/8.3 MB 19.7 MB/s eta 0:00:01\n",
      "     --------------------------- ------------ 5.6/8.3 MB 23.9 MB/s eta 0:00:01\n",
      "     ---------------------------------------  8.3/8.3 MB 29.4 MB/s eta 0:00:01\n",
      "     ---------------------------------------- 8.3/8.3 MB 26.5 MB/s eta 0:00:00\n",
      "Requirement already satisfied: numpy>=1.17.3 in c:\\users\\smhrd\\anaconda3\\envs\\py38_yolo\\lib\\site-packages (from scikit-learn) (1.24.2)\n",
      "Requirement already satisfied: scipy>=1.3.2 in c:\\users\\smhrd\\anaconda3\\envs\\py38_yolo\\lib\\site-packages (from scikit-learn) (1.10.1)\n",
      "Collecting threadpoolctl>=2.0.0\n",
      "  Downloading threadpoolctl-3.1.0-py3-none-any.whl (14 kB)\n",
      "Collecting joblib>=1.1.1\n",
      "  Downloading joblib-1.2.0-py3-none-any.whl (297 kB)\n",
      "     ---------------------------------------- 0.0/298.0 kB ? eta -:--:--\n",
      "     ---------------------------------------- 298.0/298.0 kB ? eta 0:00:00\n",
      "Installing collected packages: threadpoolctl, joblib, scikit-learn\n",
      "Successfully installed joblib-1.2.0 scikit-learn-1.2.2 threadpoolctl-3.1.0\n"
     ]
    }
   ],
   "source": [
    "!pip install scikit-learn"
   ]
  },
  {
   "cell_type": "code",
   "execution_count": 13,
   "id": "92e5d13b",
   "metadata": {},
   "outputs": [
    {
     "name": "stdout",
     "output_type": "stream",
     "text": [
      "Requirement already satisfied: numpy in c:\\users\\smhrd\\anaconda3\\envs\\py38_yolo\\lib\\site-packages (1.24.2)\n"
     ]
    }
   ],
   "source": [
    "!pip install numpy"
   ]
  },
  {
   "cell_type": "code",
   "execution_count": null,
   "id": "91a7d99d",
   "metadata": {},
   "outputs": [],
   "source": []
  },
  {
   "cell_type": "code",
   "execution_count": null,
   "id": "d1a526bb",
   "metadata": {},
   "outputs": [],
   "source": []
  },
  {
   "cell_type": "code",
   "execution_count": null,
   "id": "d3fe41f4",
   "metadata": {},
   "outputs": [],
   "source": []
  },
  {
   "cell_type": "code",
   "execution_count": null,
   "id": "2e8b2edd",
   "metadata": {},
   "outputs": [],
   "source": []
  },
  {
   "cell_type": "code",
   "execution_count": null,
   "id": "d5e3f773",
   "metadata": {},
   "outputs": [],
   "source": []
  },
  {
   "cell_type": "code",
   "execution_count": null,
   "id": "bab63eb8",
   "metadata": {},
   "outputs": [],
   "source": []
  },
  {
   "cell_type": "code",
   "execution_count": null,
   "id": "82c858fc",
   "metadata": {},
   "outputs": [],
   "source": []
  },
  {
   "cell_type": "code",
   "execution_count": null,
   "id": "3c26432e",
   "metadata": {},
   "outputs": [],
   "source": []
  },
  {
   "cell_type": "code",
   "execution_count": null,
   "id": "87645fb4",
   "metadata": {},
   "outputs": [],
   "source": []
  },
  {
   "cell_type": "code",
   "execution_count": null,
   "id": "9a5a540b",
   "metadata": {},
   "outputs": [],
   "source": []
  },
  {
   "cell_type": "code",
   "execution_count": null,
   "id": "067e1863",
   "metadata": {},
   "outputs": [],
   "source": []
  },
  {
   "cell_type": "code",
   "execution_count": null,
   "id": "f601abc1",
   "metadata": {},
   "outputs": [],
   "source": []
  },
  {
   "cell_type": "code",
   "execution_count": null,
   "id": "a8739df2",
   "metadata": {},
   "outputs": [],
   "source": []
  },
  {
   "cell_type": "code",
   "execution_count": null,
   "id": "ca10ab2c",
   "metadata": {},
   "outputs": [],
   "source": []
  },
  {
   "cell_type": "code",
   "execution_count": null,
   "id": "e2e3a8ff",
   "metadata": {},
   "outputs": [],
   "source": []
  },
  {
   "cell_type": "code",
   "execution_count": null,
   "id": "2ba12103",
   "metadata": {},
   "outputs": [],
   "source": []
  },
  {
   "cell_type": "code",
   "execution_count": null,
   "id": "0b751e59",
   "metadata": {},
   "outputs": [],
   "source": []
  }
 ],
 "metadata": {
  "kernelspec": {
   "display_name": "Python 3 (ipykernel)",
   "language": "python",
   "name": "python3"
  },
  "language_info": {
   "codemirror_mode": {
    "name": "ipython",
    "version": 3
   },
   "file_extension": ".py",
   "mimetype": "text/x-python",
   "name": "python",
   "nbconvert_exporter": "python",
   "pygments_lexer": "ipython3",
   "version": "3.9.13"
  },
  "toc": {
   "base_numbering": 1,
   "nav_menu": {},
   "number_sections": true,
   "sideBar": true,
   "skip_h1_title": false,
   "title_cell": "Table of Contents",
   "title_sidebar": "Contents",
   "toc_cell": false,
   "toc_position": {},
   "toc_section_display": true,
   "toc_window_display": false
  }
 },
 "nbformat": 4,
 "nbformat_minor": 5
}
