{
 "cells": [
  {
   "cell_type": "code",
   "execution_count": 1,
   "id": "33e2e6ee",
   "metadata": {},
   "outputs": [],
   "source": [
    "# !pip install selenium"
   ]
  },
  {
   "cell_type": "code",
   "execution_count": 2,
   "id": "6851d0fe",
   "metadata": {},
   "outputs": [],
   "source": [
    "# !pip install webdriver_manager"
   ]
  },
  {
   "cell_type": "code",
   "execution_count": 3,
   "id": "7f0e1c9f",
   "metadata": {},
   "outputs": [],
   "source": [
    "# !pip install pandas"
   ]
  },
  {
   "cell_type": "code",
   "execution_count": 4,
   "id": "41e8b33e",
   "metadata": {},
   "outputs": [],
   "source": [
    "# !pip install seaborn"
   ]
  },
  {
   "cell_type": "code",
   "execution_count": 5,
   "id": "e96e1992",
   "metadata": {},
   "outputs": [],
   "source": [
    "# !pip install sklearn"
   ]
  },
  {
   "cell_type": "code",
   "execution_count": 6,
   "id": "c02ad229",
   "metadata": {},
   "outputs": [],
   "source": [
    "# !pip install scikit-learn"
   ]
  },
  {
   "cell_type": "code",
   "execution_count": 7,
   "id": "2927dfb5",
   "metadata": {},
   "outputs": [],
   "source": [
    "# !pip install transformers"
   ]
  },
  {
   "cell_type": "code",
   "execution_count": 8,
   "id": "b2895668",
   "metadata": {},
   "outputs": [],
   "source": [
    "# conda install pytorch torchvision torchaudio cudatoolkit=10.2 -c pytorch"
   ]
  },
  {
   "cell_type": "code",
   "execution_count": 9,
   "id": "660c71e7",
   "metadata": {},
   "outputs": [],
   "source": [
    "# conda update -n base -c defaults conda"
   ]
  },
  {
   "cell_type": "code",
   "execution_count": 10,
   "id": "1a94711c",
   "metadata": {},
   "outputs": [],
   "source": [
    "# !pip install chardet"
   ]
  },
  {
   "cell_type": "code",
   "execution_count": 11,
   "id": "f4691073",
   "metadata": {},
   "outputs": [],
   "source": [
    "# !pip install huggingface_hub"
   ]
  },
  {
   "cell_type": "code",
   "execution_count": 12,
   "id": "ed43ae8a",
   "metadata": {},
   "outputs": [],
   "source": [
    "# !pip install finbert"
   ]
  },
  {
   "cell_type": "code",
   "execution_count": 13,
   "id": "2501b9b7",
   "metadata": {},
   "outputs": [],
   "source": [
    "# !pip install tensorflow"
   ]
  },
  {
   "cell_type": "code",
   "execution_count": null,
   "id": "0ef0fe2b",
   "metadata": {},
   "outputs": [],
   "source": []
  },
  {
   "cell_type": "code",
   "execution_count": null,
   "id": "5ca20680",
   "metadata": {},
   "outputs": [],
   "source": [
    "import warnings\n",
    "import random\n",
    "import pandas as pd\n",
    "from tqdm import tqdm\n",
    "import seaborn as sns\n",
    "import matplotlib.pyplot as plt\n",
    "from sklearn.metrics import f1_score\n",
    "from sklearn.model_selection import train_test_split\n",
    "from transformers import BertTokenizer,  AutoModelForSequenceClassification, AdamW, get_linear_schedule_with_warmup\n",
    "import torch\n",
    "from torch.utils.data import DataLoader, RandomSampler, SequentialSampler\n",
    "import time\n",
    "from selenium import webdriver\n",
    "from webdriver_manager.chrome import ChromeDriverManager\n",
    "from selenium.webdriver.chrome.service import Service\n",
    "from selenium.webdriver.common.by import By\n",
    "from selenium.common.exceptions import NoSuchElementException\n",
    "from transformers import AutoTokenizer, AutoModelForSequenceClassification\n",
    "import re\n",
    "# 허깅페이스 - finbert\n",
    "from transformers import AutoTokenizer, AutoModelForSequenceClassification\n",
    "\n",
    "import pandas as pd"
   ]
  },
  {
   "cell_type": "code",
   "execution_count": 16,
   "id": "a8b917c7",
   "metadata": {},
   "outputs": [],
   "source": [
    "warnings.filterwarnings('ignore') # warning 무시\n",
    "\n",
    "tokenizer = AutoTokenizer.from_pretrained(\"ProsusAI/finbert\")\n",
    "model = AutoModelForSequenceClassification.from_pretrained(\"ProsusAI/finbert\")"
   ]
  },
  {
   "cell_type": "code",
   "execution_count": 17,
   "id": "8ea25c97",
   "metadata": {},
   "outputs": [],
   "source": [
    "def set_chrome_driver(headless=True):\n",
    "    options = webdriver.ChromeOptions()\n",
    "    if headless:\n",
    "        options.add_argument('--headless')\n",
    "    options.add_argument('--disable-gpu')\n",
    "    options.add_argument('--no-sandbox')\n",
    "    options.add_argument('--disable-dev-shm-usage')\n",
    "    driver = webdriver.Chrome(options=options)\n",
    "    return driver\n"
   ]
  },
  {
   "cell_type": "code",
   "execution_count": 18,
   "id": "cacd0dc6",
   "metadata": {},
   "outputs": [],
   "source": [
    "def crawl_page(url):\n",
    "    try:\n",
    "        driver = set_chrome_driver(False) # Chrome 웹 드라이버 인스턴스 생성\n",
    "        driver.get(url)  # 지정된 URL을 웹 드라이버에서 열기\n",
    "        # 요소 변경 가능\n",
    "        article_page = driver.find_element(By.CLASS_NAME, 'articlePage') # class 이름으로 뉴스 기사 페이지 요소 찾기\n",
    "        text = article_page.text # 뉴스 기사 페이지 요소에서 텍스트 추출\n",
    "        driver.close() # 텍스트 추출 후 웹 드라이버 닫기\n",
    "    except NoSuchElementException: \n",
    "        text = \"\"  # 뉴스 기사 페이지 요소가 없을 경우 텍스트를 빈 문자열로 설정\n",
    "    except TimeoutException:\n",
    "        text = \"\" # 웹페이지가 제대로 로드되지 않으면 텍스트를 빈 문자열로 설정\n",
    "    return text  # 추출된 텍스트 반환"
   ]
  },
  {
   "cell_type": "code",
   "execution_count": 19,
   "id": "ebe3b92e",
   "metadata": {},
   "outputs": [
    {
     "name": "stdout",
     "output_type": "stream",
     "text": [
      "Barani KrishnanInvestingcom\n",
      "Articles 1075\n",
      "My Homepage\n",
      "Follow\n",
      "  ZW\n",
      "069\n",
      "After four straight weeks of losses wheat hits near onemonth high\n",
      "Wheats peak comes on news that US and German tanks are to roll into Ukraine\n",
      "If the upside stays wheats extended rally could begin at 8 and run to 950 \n",
      "After four weeks in the red wheat prices have hit their highest in almost a month as grain traders react to the news that US and German tanks were to roll into Ukraine amid bigger reinforcements planned by Washington to assist President Volodymyr Zelenskyys army against Russias invasion\n",
      "The frontmonth wheat contract on the CBOT or Chicago Board of Trade peaked at 7666 a bushel in Tuesdays session as trading concluded for January The last time a benchmark US wheat contract was higher was on Jan 4 when it reached 7805 per bushel \n",
      "CBOT Wheat Daily Chart\n",
      "Charts by SKChartingcom with data powered by Investingcom\n",
      "The upshot for wheat follows weekly losses since Jan 7 in a market that has slid to almost preUkraine war pricing over the past year The grains near onemonth high coincides with news on Wednesday that US President Joe Biden and German Chancellor Olaf Scholz will send contingents of tanks to Ukraine \n",
      "While the effectiveness of the German Leopard 2 and US M1 Abrams tanks have been disputed the decision to send them represents a reversal of US and German hesitation at providing Kyiv with offensive armored vehicles It is also symbolic of efforts by Zelenskyys allies to help Ukraine recover territory seized by Russia Some 321 tanks will be received by Ukraine Kyivs ambassador to France Vadym Omelchenko said\n",
      "Aside from the tanks the United States is separately preparing more than 2 billion worth of Ukrainian military aid that is expected to include longerrange rockets for the first time as well as other munitions and weapons Reuters reported on Tuesday\n",
      "US Wheat Associates an export market development organization that supports the wheat industry said in an outlook issued this week\n",
      "Market sentiment has become increasingly bearish and prices have significantly dipped in the buyers favor however many unknowns linger in the market The underlying uncertainty of Putins war will continue to support the market\n",
      "Jack Scoville Chief Crop Analyst at the Price Futures Group in Chicago concurred saying\n",
      "The US and Germany are about to supply tanks to Ukraine allowing the war to get hotter while the wheat crop develops \n",
      "Adds Scoville \n",
      "Russia has a large wheat production although the USDA US Department of Agriculture says it is not nearly as large as Russia says it is The big Russian production goes against the difficulty of moving the grain from the Black Sea due to insurance requirements But so far the lack of insurance has not increased demand for US wheat as Russian wheat is still moving\n",
      "The demand for US wheat in international markets has been a disappointment all year and has been hindered by low prices and aggressive offers from Russia Ukraine is also looking for new business for its crops and Russia is aggressive in the world market as it looks for cash to fund the war\n",
      " CBOT wheat got to a record high of 1362 right after the Ukraine invasion Following a year of dramatic volatility several factors have pressured global wheat prices back to levels seen before the invasion\n",
      "Prices have steadily crumbled since the summer of last year after Russia and Ukraine with support from the United Nations and Turkey agreed to the Black Sea grain corridor and created the JCC or Joint Coordination Center to facilitate exports for the region The agreement allowed supplies trapped in Russia and Ukraine to reenter the world market and in response wheat futures eased 37 from the springs highs \n",
      "In the months since the corridor was implemented wheat futures have continued falling to prewar levels US Wheat Associates said The downward pressure of steady lowpriced Black Sea wheat exports remains the primary driver \n",
      "According to JCC data since the corridors inception 51 million tonnes of wheat have been shipped from Ukraine  \n",
      "The USDAs January report on World Agricultural Supply and Demand Estimates has pegged Russian wheat production at 91 million tonnes though some private sector forecasts are upwards of 104 million tonnes With record production Russian exports are expected to reach 43 million tonnes 17 above the fiveyear average \n",
      "A record crop from Australia has also helped ease some global supply concerns The Australian wheat crop is rumored to reach nearly 42 million tonnes though USDA estimates hover at 366 million tonnes \n",
      "So where are wheat prices headed in the near term \n",
      "CBOT Wheat Weekly Chart\n",
      "Technical charts are pointing to an extended rally that could begin at 8 and run up to 950 says Sunil Kumar Dixit chief technical strategist at SKChartingcom \n",
      "Though wheat futures has been showing an up move for the second week back to back its extent may be limited for now to the 800813826 range\n",
      "Only if prices gain strong acceptance above this resistance zone a further upleg will begin targeting 950 with some momentum distribution between 850 and 880 \n",
      "If wheat fails to establish itself above 8 prices are likely to drop to the recent low of 712 and extend its downside to the 200week SMA or Simple Moving Average of 676 Dixit concludes\n",
      "Disclaimer Barani Krishnan uses a range of views outside his own to bring diversity to his analysis of any market For neutrality he sometimes presents contrarian views and market variables He does not hold positions in the commodities and securities he writes about\n"
     ]
    }
   ],
   "source": [
    "page = crawl_page('https://www.investing.com/analysis/traders-send-wheat-prices-spiking-as-allied-tanks-aid-to-roll-into-ukraine-200634894')  # 뉴스 페이지 크롤링\n",
    "\n",
    "\n",
    "\n",
    "\n",
    "if not page:\n",
    "    print(\"내용이 없습니다.\")\n",
    "else:\n",
    "    text_data = str(page) # 크롤링한 데이터를 문자열로 변환\n",
    "    # 텍스트 데이터 정리 및 전처리\n",
    "    text_data = re.sub('<.*?>', '', text_data) # HTML 태그 제거\n",
    "    text_data = re.sub(r'[^\\w\\s]', '', text_data) # 특수문자 제거\n",
    "    # 필요에 따라 다른 전처리 단계를 수행\n",
    "    \n",
    "    print(text_data)"
   ]
  },
  {
   "cell_type": "code",
   "execution_count": 20,
   "id": "8a01fd5e",
   "metadata": {},
   "outputs": [],
   "source": [
    "encoded_text = tokenizer(text_data, padding=True, truncation=True, return_tensors='pt')"
   ]
  },
  {
   "cell_type": "code",
   "execution_count": 21,
   "id": "f217f049",
   "metadata": {},
   "outputs": [],
   "source": [
    "# 감정 분석을 위해 인코딩된 텍스트를 모델에 전달  \n",
    "# 출력 = 모델\n",
    "\n",
    "outputs = model(**encoded_text)\n",
    "logits = outputs.logits\n",
    "predicted_class_idx = logits.argmax(dim=1).item()"
   ]
  },
  {
   "cell_type": "code",
   "execution_count": 22,
   "id": "7bed7312",
   "metadata": {},
   "outputs": [
    {
     "name": "stdout",
     "output_type": "stream",
     "text": [
      "Predicted Sentiment: Neutral\n"
     ]
    }
   ],
   "source": [
    "# 모델의 출력에서 예측된 감정 레이블 가져오기\n",
    "\n",
    "sentiment_labels = [\"Negative\", \"Neutral\", \"Positive\"]\n",
    "predicted_sentiment = sentiment_labels[predicted_class_idx]\n",
    "\n",
    "print(\"Predicted Sentiment: {}\".format(predicted_sentiment))"
   ]
  },
  {
   "cell_type": "code",
   "execution_count": null,
   "id": "e069093f",
   "metadata": {},
   "outputs": [],
   "source": [
    "def show_random_headlines(total_number, df):\n",
    "    \n",
    "    # Get the random number of reviews\n",
    "    n_reviews = df.sample(total_number)\n",
    "    \n",
    "    # Print each one of the reviews\n",
    "    for val in list(n_reviews.index):\n",
    "        print(\"Reviews #°{}\".format(val))\n",
    "        print(\" - Sentiment: {}\".format(df.iloc[val][\"sentiment\"]))\n",
    "        print(\" - News Headline: {}\".format(df.iloc[val][\"NewsHeadline\"]))\n",
    "        print(\"\")"
   ]
  },
  {
   "cell_type": "code",
   "execution_count": 24,
   "id": "c2102d7d",
   "metadata": {},
   "outputs": [
    {
     "ename": "NameError",
     "evalue": "name 'show_random_headlines' is not defined",
     "output_type": "error",
     "traceback": [
      "\u001b[1;31m---------------------------------------------------------------------------\u001b[0m",
      "\u001b[1;31mNameError\u001b[0m                                 Traceback (most recent call last)",
      "Cell \u001b[1;32mIn[24], line 1\u001b[0m\n\u001b[1;32m----> 1\u001b[0m \u001b[43mshow_random_headlines\u001b[49m(total_number, df)\n",
      "\u001b[1;31mNameError\u001b[0m: name 'show_random_headlines' is not defined"
     ]
    }
   ],
   "source": [
    "show_random_headlines(total_number, df)"
   ]
  },
  {
   "cell_type": "code",
   "execution_count": null,
   "id": "de1e6552",
   "metadata": {},
   "outputs": [],
   "source": [
    "# 크롤링된 데이터 및 감성 라벨로 df DataFrame 생성 및 채우기\n",
    "df = pd.DataFrame({'NewsHeadline': news_headlines, 'sentiment': sentiment_labels})"
   ]
  },
  {
   "cell_type": "code",
   "execution_count": null,
   "id": "589e2c48",
   "metadata": {},
   "outputs": [],
   "source": []
  }
 ],
 "metadata": {
  "kernelspec": {
   "display_name": "Python 3 (ipykernel)",
   "language": "python",
   "name": "python3"
  },
  "language_info": {
   "codemirror_mode": {
    "name": "ipython",
    "version": 3
   },
   "file_extension": ".py",
   "mimetype": "text/x-python",
   "name": "python",
   "nbconvert_exporter": "python",
   "pygments_lexer": "ipython3",
   "version": "3.8.0"
  },
  "toc": {
   "base_numbering": 1,
   "nav_menu": {},
   "number_sections": true,
   "sideBar": true,
   "skip_h1_title": false,
   "title_cell": "Table of Contents",
   "title_sidebar": "Contents",
   "toc_cell": false,
   "toc_position": {},
   "toc_section_display": true,
   "toc_window_display": false
  }
 },
 "nbformat": 4,
 "nbformat_minor": 5
}
