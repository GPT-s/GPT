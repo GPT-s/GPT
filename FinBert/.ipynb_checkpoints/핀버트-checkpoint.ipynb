{
 "cells": [
  {
   "cell_type": "code",
   "execution_count": 3,
   "id": "33e2e6ee",
   "metadata": {
    "collapsed": true
   },
   "outputs": [
    {
     "name": "stdout",
     "output_type": "stream",
     "text": [
      "Collecting selenium\n",
      "  Downloading selenium-4.8.3-py3-none-any.whl (6.5 MB)\n",
      "     ---------------------------------------- 0.0/6.5 MB ? eta -:--:--\n",
      "     --- ------------------------------------ 0.6/6.5 MB 12.4 MB/s eta 0:00:01\n",
      "     ------- -------------------------------- 1.3/6.5 MB 13.6 MB/s eta 0:00:01\n",
      "     -------------- ------------------------- 2.3/6.5 MB 16.3 MB/s eta 0:00:01\n",
      "     ---------------------- ----------------- 3.6/6.5 MB 19.3 MB/s eta 0:00:01\n",
      "     --------------------------------- ------ 5.5/6.5 MB 23.2 MB/s eta 0:00:01\n",
      "     ---------------------------------------  6.5/6.5 MB 26.1 MB/s eta 0:00:01\n",
      "     ---------------------------------------- 6.5/6.5 MB 23.1 MB/s eta 0:00:00\n",
      "Collecting urllib3[socks]~=1.26\n",
      "  Using cached urllib3-1.26.15-py2.py3-none-any.whl (140 kB)\n",
      "Collecting trio~=0.17\n",
      "  Using cached trio-0.22.0-py3-none-any.whl (384 kB)\n",
      "Collecting trio-websocket~=0.9\n",
      "  Downloading trio_websocket-0.10.2-py3-none-any.whl (17 kB)\n",
      "Requirement already satisfied: certifi>=2021.10.8 in c:\\users\\smhrd\\anaconda3\\envs\\py_38\\lib\\site-packages (from selenium) (2022.12.7)\n",
      "Collecting sortedcontainers\n",
      "  Downloading sortedcontainers-2.4.0-py2.py3-none-any.whl (29 kB)\n",
      "Collecting async-generator>=1.9\n",
      "  Using cached async_generator-1.10-py3-none-any.whl (18 kB)\n",
      "Requirement already satisfied: idna in c:\\users\\smhrd\\anaconda3\\envs\\py_38\\lib\\site-packages (from trio~=0.17->selenium) (3.4)\n",
      "Requirement already satisfied: cffi>=1.14 in c:\\users\\smhrd\\anaconda3\\envs\\py_38\\lib\\site-packages (from trio~=0.17->selenium) (1.15.1)\n",
      "Requirement already satisfied: attrs>=19.2.0 in c:\\users\\smhrd\\anaconda3\\envs\\py_38\\lib\\site-packages (from trio~=0.17->selenium) (22.2.0)\n",
      "Requirement already satisfied: sniffio in c:\\users\\smhrd\\anaconda3\\envs\\py_38\\lib\\site-packages (from trio~=0.17->selenium) (1.3.0)\n",
      "Collecting exceptiongroup>=1.0.0rc9\n",
      "  Downloading exceptiongroup-1.1.1-py3-none-any.whl (14 kB)\n",
      "Collecting outcome\n",
      "  Using cached outcome-1.2.0-py2.py3-none-any.whl (9.7 kB)\n",
      "Collecting wsproto>=0.14\n",
      "  Using cached wsproto-1.2.0-py3-none-any.whl (24 kB)\n",
      "Collecting PySocks!=1.5.7,<2.0,>=1.5.6\n",
      "  Downloading PySocks-1.7.1-py3-none-any.whl (16 kB)\n",
      "Requirement already satisfied: pycparser in c:\\users\\smhrd\\anaconda3\\envs\\py_38\\lib\\site-packages (from cffi>=1.14->trio~=0.17->selenium) (2.21)\n",
      "Collecting h11<1,>=0.9.0\n",
      "  Using cached h11-0.14.0-py3-none-any.whl (58 kB)\n",
      "Installing collected packages: sortedcontainers, urllib3, PySocks, outcome, h11, exceptiongroup, async-generator, wsproto, trio, trio-websocket, selenium\n",
      "Successfully installed PySocks-1.7.1 async-generator-1.10 exceptiongroup-1.1.1 h11-0.14.0 outcome-1.2.0 selenium-4.8.3 sortedcontainers-2.4.0 trio-0.22.0 trio-websocket-0.10.2 urllib3-1.26.15 wsproto-1.2.0\n"
     ]
    }
   ],
   "source": [
    "# !pip install selenium"
   ]
  },
  {
   "cell_type": "code",
   "execution_count": 6,
   "id": "6851d0fe",
   "metadata": {
    "collapsed": true
   },
   "outputs": [
    {
     "name": "stdout",
     "output_type": "stream",
     "text": [
      "Collecting webdriver_manager\n",
      "  Downloading webdriver_manager-3.8.5-py2.py3-none-any.whl (27 kB)\n",
      "Collecting python-dotenv\n",
      "  Downloading python_dotenv-1.0.0-py3-none-any.whl (19 kB)\n",
      "Collecting requests\n",
      "  Using cached requests-2.28.2-py3-none-any.whl (62 kB)\n",
      "Collecting tqdm\n",
      "  Using cached tqdm-4.65.0-py3-none-any.whl (77 kB)\n",
      "Requirement already satisfied: packaging in c:\\users\\smhrd\\anaconda3\\envs\\py_38\\lib\\site-packages (from webdriver_manager) (23.0)\n",
      "Requirement already satisfied: urllib3<1.27,>=1.21.1 in c:\\users\\smhrd\\anaconda3\\envs\\py_38\\lib\\site-packages (from requests->webdriver_manager) (1.26.15)\n",
      "Collecting charset-normalizer<4,>=2\n",
      "  Using cached charset_normalizer-3.1.0-cp38-cp38-win_amd64.whl (96 kB)\n",
      "Requirement already satisfied: idna<4,>=2.5 in c:\\users\\smhrd\\anaconda3\\envs\\py_38\\lib\\site-packages (from requests->webdriver_manager) (3.4)\n",
      "Requirement already satisfied: certifi>=2017.4.17 in c:\\users\\smhrd\\anaconda3\\envs\\py_38\\lib\\site-packages (from requests->webdriver_manager) (2022.12.7)\n",
      "Requirement already satisfied: colorama in c:\\users\\smhrd\\anaconda3\\envs\\py_38\\lib\\site-packages (from tqdm->webdriver_manager) (0.4.6)\n",
      "Installing collected packages: tqdm, python-dotenv, charset-normalizer, requests, webdriver_manager\n",
      "Successfully installed charset-normalizer-3.1.0 python-dotenv-1.0.0 requests-2.28.2 tqdm-4.65.0 webdriver_manager-3.8.5\n"
     ]
    }
   ],
   "source": [
    "# !pip install webdriver_manager"
   ]
  },
  {
   "cell_type": "code",
   "execution_count": 11,
   "id": "7f0e1c9f",
   "metadata": {},
   "outputs": [
    {
     "name": "stdout",
     "output_type": "stream",
     "text": [
      "Requirement already satisfied: pandas in c:\\users\\smhrd\\anaconda3\\envs\\py_38\\lib\\site-packages (2.0.0)\n",
      "Requirement already satisfied: tzdata>=2022.1 in c:\\users\\smhrd\\anaconda3\\envs\\py_38\\lib\\site-packages (from pandas) (2023.3)\n",
      "Requirement already satisfied: numpy>=1.20.3 in c:\\users\\smhrd\\anaconda3\\envs\\py_38\\lib\\site-packages (from pandas) (1.24.2)\n",
      "Requirement already satisfied: python-dateutil>=2.8.2 in c:\\users\\smhrd\\anaconda3\\envs\\py_38\\lib\\site-packages (from pandas) (2.8.2)\n",
      "Requirement already satisfied: pytz>=2020.1 in c:\\users\\smhrd\\anaconda3\\envs\\py_38\\lib\\site-packages (from pandas) (2023.3)\n",
      "Requirement already satisfied: six>=1.5 in c:\\users\\smhrd\\anaconda3\\envs\\py_38\\lib\\site-packages (from python-dateutil>=2.8.2->pandas) (1.16.0)\n"
     ]
    }
   ],
   "source": [
    "# !pip install pandas"
   ]
  },
  {
   "cell_type": "code",
   "execution_count": 13,
   "id": "41e8b33e",
   "metadata": {
    "collapsed": true
   },
   "outputs": [
    {
     "name": "stdout",
     "output_type": "stream",
     "text": [
      "Collecting seaborn\n",
      "  Using cached seaborn-0.12.2-py3-none-any.whl (293 kB)\n",
      "Requirement already satisfied: pandas>=0.25 in c:\\users\\smhrd\\anaconda3\\envs\\py_38\\lib\\site-packages (from seaborn) (2.0.0)\n",
      "Collecting matplotlib!=3.6.1,>=3.1\n",
      "  Using cached matplotlib-3.7.1-cp38-cp38-win_amd64.whl (7.6 MB)\n",
      "Requirement already satisfied: numpy!=1.24.0,>=1.17 in c:\\users\\smhrd\\anaconda3\\envs\\py_38\\lib\\site-packages (from seaborn) (1.24.2)\n",
      "Requirement already satisfied: packaging>=20.0 in c:\\users\\smhrd\\anaconda3\\envs\\py_38\\lib\\site-packages (from matplotlib!=3.6.1,>=3.1->seaborn) (23.0)\n",
      "Collecting fonttools>=4.22.0\n",
      "  Using cached fonttools-4.39.3-py3-none-any.whl (1.0 MB)\n",
      "Collecting pillow>=6.2.0\n",
      "  Using cached Pillow-9.5.0-cp38-cp38-win_amd64.whl (2.5 MB)\n",
      "Collecting pyparsing>=2.3.1\n",
      "  Using cached pyparsing-3.0.9-py3-none-any.whl (98 kB)\n",
      "Collecting contourpy>=1.0.1\n",
      "  Using cached contourpy-1.0.7-cp38-cp38-win_amd64.whl (162 kB)\n",
      "Collecting kiwisolver>=1.0.1\n",
      "  Using cached kiwisolver-1.4.4-cp38-cp38-win_amd64.whl (55 kB)\n",
      "Requirement already satisfied: python-dateutil>=2.7 in c:\\users\\smhrd\\anaconda3\\envs\\py_38\\lib\\site-packages (from matplotlib!=3.6.1,>=3.1->seaborn) (2.8.2)\n",
      "Requirement already satisfied: importlib-resources>=3.2.0 in c:\\users\\smhrd\\anaconda3\\envs\\py_38\\lib\\site-packages (from matplotlib!=3.6.1,>=3.1->seaborn) (5.12.0)\n",
      "Collecting cycler>=0.10\n",
      "  Using cached cycler-0.11.0-py3-none-any.whl (6.4 kB)\n",
      "Requirement already satisfied: tzdata>=2022.1 in c:\\users\\smhrd\\anaconda3\\envs\\py_38\\lib\\site-packages (from pandas>=0.25->seaborn) (2023.3)\n",
      "Requirement already satisfied: pytz>=2020.1 in c:\\users\\smhrd\\anaconda3\\envs\\py_38\\lib\\site-packages (from pandas>=0.25->seaborn) (2023.3)\n",
      "Requirement already satisfied: zipp>=3.1.0 in c:\\users\\smhrd\\anaconda3\\envs\\py_38\\lib\\site-packages (from importlib-resources>=3.2.0->matplotlib!=3.6.1,>=3.1->seaborn) (3.15.0)\n",
      "Requirement already satisfied: six>=1.5 in c:\\users\\smhrd\\anaconda3\\envs\\py_38\\lib\\site-packages (from python-dateutil>=2.7->matplotlib!=3.6.1,>=3.1->seaborn) (1.16.0)\n",
      "Installing collected packages: pyparsing, pillow, kiwisolver, fonttools, cycler, contourpy, matplotlib, seaborn\n",
      "Successfully installed contourpy-1.0.7 cycler-0.11.0 fonttools-4.39.3 kiwisolver-1.4.4 matplotlib-3.7.1 pillow-9.5.0 pyparsing-3.0.9 seaborn-0.12.2\n"
     ]
    }
   ],
   "source": [
    "# !pip install seaborn"
   ]
  },
  {
   "cell_type": "code",
   "execution_count": 16,
   "id": "e96e1992",
   "metadata": {
    "collapsed": true
   },
   "outputs": [
    {
     "name": "stdout",
     "output_type": "stream",
     "text": [
      "Collecting sklearn\n",
      "  Downloading sklearn-0.0.post1.tar.gz (3.6 kB)\n",
      "  Preparing metadata (setup.py): started\n",
      "  Preparing metadata (setup.py): finished with status 'done'\n",
      "Building wheels for collected packages: sklearn\n",
      "  Building wheel for sklearn (setup.py): started\n",
      "  Building wheel for sklearn (setup.py): finished with status 'done'\n",
      "  Created wheel for sklearn: filename=sklearn-0.0.post1-py3-none-any.whl size=2954 sha256=3a0c3643c7d533c4be785bf798145403c4eda8b91b1beb81d0b1452caa7b2649\n",
      "  Stored in directory: c:\\users\\smhrd\\appdata\\local\\pip\\cache\\wheels\\14\\25\\f7\\1cc0956978ae479e75140219088deb7a36f60459df242b1a72\n",
      "Successfully built sklearn\n",
      "Installing collected packages: sklearn\n",
      "Successfully installed sklearn-0.0.post1\n"
     ]
    }
   ],
   "source": [
    "# !pip install sklearn"
   ]
  },
  {
   "cell_type": "code",
   "execution_count": 18,
   "id": "c02ad229",
   "metadata": {
    "collapsed": true
   },
   "outputs": [
    {
     "name": "stdout",
     "output_type": "stream",
     "text": [
      "Collecting scikit-learn\n",
      "  Using cached scikit_learn-1.2.2-cp38-cp38-win_amd64.whl (8.3 MB)\n",
      "Collecting threadpoolctl>=2.0.0\n",
      "  Using cached threadpoolctl-3.1.0-py3-none-any.whl (14 kB)\n",
      "Collecting joblib>=1.1.1\n",
      "  Using cached joblib-1.2.0-py3-none-any.whl (297 kB)\n",
      "Collecting scipy>=1.3.2\n",
      "  Using cached scipy-1.10.1-cp38-cp38-win_amd64.whl (42.2 MB)\n",
      "Requirement already satisfied: numpy>=1.17.3 in c:\\users\\smhrd\\anaconda3\\envs\\py_38\\lib\\site-packages (from scikit-learn) (1.24.2)\n",
      "Installing collected packages: threadpoolctl, scipy, joblib, scikit-learn\n",
      "Successfully installed joblib-1.2.0 scikit-learn-1.2.2 scipy-1.10.1 threadpoolctl-3.1.0\n"
     ]
    }
   ],
   "source": [
    "# !pip install scikit-learn"
   ]
  },
  {
   "cell_type": "code",
   "execution_count": 20,
   "id": "2927dfb5",
   "metadata": {
    "collapsed": true
   },
   "outputs": [
    {
     "name": "stdout",
     "output_type": "stream",
     "text": [
      "Collecting transformers\n",
      "  Using cached transformers-4.27.4-py3-none-any.whl (6.8 MB)\n",
      "Collecting regex!=2019.12.17\n",
      "  Downloading regex-2023.3.23-cp38-cp38-win_amd64.whl (267 kB)\n",
      "     ---------------------------------------- 0.0/267.9 kB ? eta -:--:--\n",
      "     -------------------------------------- 267.9/267.9 kB 8.1 MB/s eta 0:00:00\n",
      "Requirement already satisfied: tqdm>=4.27 in c:\\users\\smhrd\\anaconda3\\envs\\py_38\\lib\\site-packages (from transformers) (4.65.0)\n",
      "Requirement already satisfied: pyyaml>=5.1 in c:\\users\\smhrd\\anaconda3\\envs\\py_38\\lib\\site-packages (from transformers) (6.0)\n",
      "Requirement already satisfied: requests in c:\\users\\smhrd\\anaconda3\\envs\\py_38\\lib\\site-packages (from transformers) (2.28.2)\n",
      "Collecting filelock\n",
      "  Downloading filelock-3.11.0-py3-none-any.whl (10.0 kB)\n",
      "Collecting tokenizers!=0.11.3,<0.14,>=0.11.1\n",
      "  Downloading tokenizers-0.13.3-cp38-cp38-win_amd64.whl (3.5 MB)\n",
      "     ---------------------------------------- 0.0/3.5 MB ? eta -:--:--\n",
      "     ------- -------------------------------- 0.7/3.5 MB 13.9 MB/s eta 0:00:01\n",
      "     ----------------- ---------------------- 1.5/3.5 MB 16.3 MB/s eta 0:00:01\n",
      "     ------------------------------------ --- 3.2/3.5 MB 22.6 MB/s eta 0:00:01\n",
      "     ---------------------------------------- 3.5/3.5 MB 20.1 MB/s eta 0:00:00\n",
      "Requirement already satisfied: packaging>=20.0 in c:\\users\\smhrd\\anaconda3\\envs\\py_38\\lib\\site-packages (from transformers) (23.0)\n",
      "Requirement already satisfied: numpy>=1.17 in c:\\users\\smhrd\\anaconda3\\envs\\py_38\\lib\\site-packages (from transformers) (1.24.2)\n",
      "Collecting huggingface-hub<1.0,>=0.11.0\n",
      "  Using cached huggingface_hub-0.13.4-py3-none-any.whl (200 kB)\n",
      "Collecting typing-extensions>=3.7.4.3\n",
      "  Using cached typing_extensions-4.5.0-py3-none-any.whl (27 kB)\n",
      "Requirement already satisfied: colorama in c:\\users\\smhrd\\anaconda3\\envs\\py_38\\lib\\site-packages (from tqdm>=4.27->transformers) (0.4.6)\n",
      "Requirement already satisfied: urllib3<1.27,>=1.21.1 in c:\\users\\smhrd\\anaconda3\\envs\\py_38\\lib\\site-packages (from requests->transformers) (1.26.15)\n",
      "Requirement already satisfied: certifi>=2017.4.17 in c:\\users\\smhrd\\anaconda3\\envs\\py_38\\lib\\site-packages (from requests->transformers) (2022.12.7)\n",
      "Requirement already satisfied: charset-normalizer<4,>=2 in c:\\users\\smhrd\\anaconda3\\envs\\py_38\\lib\\site-packages (from requests->transformers) (3.1.0)\n",
      "Requirement already satisfied: idna<4,>=2.5 in c:\\users\\smhrd\\anaconda3\\envs\\py_38\\lib\\site-packages (from requests->transformers) (3.4)\n",
      "Installing collected packages: tokenizers, typing-extensions, regex, filelock, huggingface-hub, transformers\n",
      "Successfully installed filelock-3.11.0 huggingface-hub-0.13.4 regex-2023.3.23 tokenizers-0.13.3 transformers-4.27.4 typing-extensions-4.5.0\n"
     ]
    }
   ],
   "source": [
    "# !pip install transformers"
   ]
  },
  {
   "cell_type": "code",
   "execution_count": 22,
   "id": "b2895668",
   "metadata": {
    "collapsed": true
   },
   "outputs": [
    {
     "name": "stdout",
     "output_type": "stream",
     "text": [
      "Collecting package metadata (current_repodata.json): ...working... done\n",
      "Solving environment: ...working... failed with initial frozen solve. Retrying with flexible solve.\n",
      "Collecting package metadata (repodata.json): ...working... done\n",
      "Solving environment: ...working... done\n",
      "\n",
      "## Package Plan ##\n",
      "\n",
      "  environment location: C:\\Users\\smhrd\\anaconda3\\envs\\py_38\n",
      "\n",
      "  added / updated specs:\n",
      "    - cudatoolkit=10.2\n",
      "    - pytorch\n",
      "    - torchaudio\n",
      "    - torchvision\n",
      "\n",
      "\n",
      "The following packages will be downloaded:\n",
      "\n",
      "    package                    |            build\n",
      "    ---------------------------|-----------------\n",
      "    brotlipy-0.7.0             |py38h2bbff1b_1003         412 KB\n",
      "    cffi-1.15.1                |   py38h2bbff1b_3         238 KB\n",
      "    cryptography-39.0.1        |   py38h21b164f_0         1.0 MB\n",
      "    cudatoolkit-10.2.89        |       h74a9793_1       317.2 MB\n",
      "    filelock-3.9.0             |   py38haa95532_0          19 KB\n",
      "    flit-core-3.8.0            |   py38haa95532_0          85 KB\n",
      "    freetype-2.12.1            |       ha860e81_0         490 KB\n",
      "    giflib-5.2.1               |       h8cc25b3_3          88 KB\n",
      "    idna-3.4                   |   py38haa95532_0          94 KB\n",
      "    jinja2-3.1.2               |   py38haa95532_0         211 KB\n",
      "    jpeg-9e                    |       h2bbff1b_1         320 KB\n",
      "    libdeflate-1.17            |       h2bbff1b_0         151 KB\n",
      "    libpng-1.6.39              |       h8cc25b3_0         369 KB\n",
      "    libtiff-4.5.0              |       h6c2663c_2         1.2 MB\n",
      "    libuv-1.44.2               |       h2bbff1b_0         288 KB\n",
      "    libwebp-1.2.4              |       hbc33d0d_1          73 KB\n",
      "    libwebp-base-1.2.4         |       h2bbff1b_1         304 KB\n",
      "    lz4-c-1.9.4                |       h2bbff1b_0         143 KB\n",
      "    markupsafe-2.1.1           |   py38h2bbff1b_0          26 KB\n",
      "    mkl-service-2.4.0          |   py38h2bbff1b_0          51 KB\n",
      "    mkl_fft-1.3.1              |   py38h277e83a_0         139 KB\n",
      "    mkl_random-1.2.2           |   py38hf11a4ad_0         225 KB\n",
      "    mpmath-1.2.1               |   py38haa95532_0         767 KB\n",
      "    networkx-2.8.4             |   py38haa95532_1         2.6 MB\n",
      "    numpy-1.23.5               |   py38h3b20f71_0          11 KB\n",
      "    numpy-base-1.23.5          |   py38h4da318b_0         6.0 MB\n",
      "    pillow-9.4.0               |   py38hd77b12b_0        1015 KB\n",
      "    pyopenssl-23.0.0           |   py38haa95532_0          97 KB\n",
      "    pysocks-1.7.1              |   py38haa95532_0          31 KB\n",
      "    pytorch-2.0.0              |      py3.8_cpu_0       145.3 MB  pytorch\n",
      "    pytorch-mutex-1.0          |              cpu           3 KB  pytorch\n",
      "    requests-2.28.1            |   py38haa95532_1          98 KB\n",
      "    sympy-1.11.1               |   py38haa95532_0        11.7 MB\n",
      "    torchaudio-2.0.0           |         py38_cpu         5.4 MB  pytorch\n",
      "    torchvision-0.15.0         |         py38_cpu         6.5 MB  pytorch\n",
      "    typing_extensions-4.4.0    |   py38haa95532_0          47 KB\n",
      "    urllib3-1.26.15            |   py38haa95532_0         194 KB\n",
      "    win_inet_pton-1.1.0        |   py38haa95532_0          35 KB\n",
      "    xz-5.2.10                  |       h8cc25b3_1         520 KB\n",
      "    zlib-1.2.13                |       h8cc25b3_0         113 KB\n",
      "    zstd-1.5.4                 |       hd43e919_0         683 KB\n",
      "    ------------------------------------------------------------\n",
      "                                           Total:       504.1 MB\n",
      "\n",
      "The following NEW packages will be INSTALLED:\n",
      "\n",
      "  blas               pkgs/main/win-64::blas-1.0-mkl None\n",
      "  brotlipy           pkgs/main/win-64::brotlipy-0.7.0-py38h2bbff1b_1003 None\n",
      "  cffi               pkgs/main/win-64::cffi-1.15.1-py38h2bbff1b_3 None\n",
      "  charset-normalizer pkgs/main/noarch::charset-normalizer-2.0.4-pyhd3eb1b0_0 None\n",
      "  cryptography       pkgs/main/win-64::cryptography-39.0.1-py38h21b164f_0 None\n",
      "  cudatoolkit        pkgs/main/win-64::cudatoolkit-10.2.89-h74a9793_1 None\n",
      "  filelock           pkgs/main/win-64::filelock-3.9.0-py38haa95532_0 None\n",
      "  flit-core          pkgs/main/win-64::flit-core-3.8.0-py38haa95532_0 None\n",
      "  freetype           pkgs/main/win-64::freetype-2.12.1-ha860e81_0 None\n",
      "  giflib             pkgs/main/win-64::giflib-5.2.1-h8cc25b3_3 None\n",
      "  idna               pkgs/main/win-64::idna-3.4-py38haa95532_0 None\n",
      "  intel-openmp       pkgs/main/win-64::intel-openmp-2021.4.0-haa95532_3556 None\n",
      "  jinja2             pkgs/main/win-64::jinja2-3.1.2-py38haa95532_0 None\n",
      "  jpeg               pkgs/main/win-64::jpeg-9e-h2bbff1b_1 None\n",
      "  lerc               pkgs/main/win-64::lerc-3.0-hd77b12b_0 None\n",
      "  libdeflate         pkgs/main/win-64::libdeflate-1.17-h2bbff1b_0 None\n",
      "  libpng             pkgs/main/win-64::libpng-1.6.39-h8cc25b3_0 None\n",
      "  libtiff            pkgs/main/win-64::libtiff-4.5.0-h6c2663c_2 None\n",
      "  libuv              pkgs/main/win-64::libuv-1.44.2-h2bbff1b_0 None\n",
      "  libwebp            pkgs/main/win-64::libwebp-1.2.4-hbc33d0d_1 None\n",
      "  libwebp-base       pkgs/main/win-64::libwebp-base-1.2.4-h2bbff1b_1 None\n",
      "  lz4-c              pkgs/main/win-64::lz4-c-1.9.4-h2bbff1b_0 None\n",
      "  markupsafe         pkgs/main/win-64::markupsafe-2.1.1-py38h2bbff1b_0 None\n",
      "  mkl                pkgs/main/win-64::mkl-2021.4.0-haa95532_640 None\n",
      "  mkl-service        pkgs/main/win-64::mkl-service-2.4.0-py38h2bbff1b_0 None\n",
      "  mkl_fft            pkgs/main/win-64::mkl_fft-1.3.1-py38h277e83a_0 None\n",
      "  mkl_random         pkgs/main/win-64::mkl_random-1.2.2-py38hf11a4ad_0 None\n",
      "  mpmath             pkgs/main/win-64::mpmath-1.2.1-py38haa95532_0 None\n",
      "  networkx           pkgs/main/win-64::networkx-2.8.4-py38haa95532_1 None\n",
      "  numpy              pkgs/main/win-64::numpy-1.23.5-py38h3b20f71_0 None\n",
      "  numpy-base         pkgs/main/win-64::numpy-base-1.23.5-py38h4da318b_0 None\n",
      "  pillow             pkgs/main/win-64::pillow-9.4.0-py38hd77b12b_0 None\n",
      "  pycparser          pkgs/main/noarch::pycparser-2.21-pyhd3eb1b0_0 None\n",
      "  pyopenssl          pkgs/main/win-64::pyopenssl-23.0.0-py38haa95532_0 None\n",
      "  pysocks            pkgs/main/win-64::pysocks-1.7.1-py38haa95532_0 None\n",
      "  pytorch            pytorch/win-64::pytorch-2.0.0-py3.8_cpu_0 None\n",
      "  pytorch-mutex      pytorch/noarch::pytorch-mutex-1.0-cpu None\n",
      "  requests           pkgs/main/win-64::requests-2.28.1-py38haa95532_1 None\n",
      "  six                pkgs/main/noarch::six-1.16.0-pyhd3eb1b0_1 None\n",
      "  sympy              pkgs/main/win-64::sympy-1.11.1-py38haa95532_0 None\n",
      "  tk                 pkgs/main/win-64::tk-8.6.12-h2bbff1b_0 None\n",
      "  torchaudio         pytorch/win-64::torchaudio-2.0.0-py38_cpu None\n",
      "  torchvision        pytorch/win-64::torchvision-0.15.0-py38_cpu None\n",
      "  typing_extensions  pkgs/main/win-64::typing_extensions-4.4.0-py38haa95532_0 None\n",
      "  urllib3            pkgs/main/win-64::urllib3-1.26.15-py38haa95532_0 None\n",
      "  win_inet_pton      pkgs/main/win-64::win_inet_pton-1.1.0-py38haa95532_0 None\n",
      "  xz                 pkgs/main/win-64::xz-5.2.10-h8cc25b3_1 None\n",
      "  zlib               pkgs/main/win-64::zlib-1.2.13-h8cc25b3_0 None\n",
      "  zstd               pkgs/main/win-64::zstd-1.5.4-hd43e919_0 None\n",
      "\n",
      "\n",
      "\n",
      "Downloading and Extracting Packages\n",
      "\n",
      "mkl-service-2.4.0    | 51 KB     |            |   0% \n",
      "mkl-service-2.4.0    | 51 KB     | ########## | 100% \n",
      "mkl-service-2.4.0    | 51 KB     | ########## | 100% \n",
      "\n",
      "win_inet_pton-1.1.0  | 35 KB     |            |   0% \n",
      "win_inet_pton-1.1.0  | 35 KB     | ########## | 100% \n",
      "\n",
      "giflib-5.2.1         | 88 KB     |            |   0% \n",
      "giflib-5.2.1         | 88 KB     | ########## | 100% \n",
      "\n",
      "libdeflate-1.17      | 151 KB    |            |   0% \n",
      "libdeflate-1.17      | 151 KB    | ########## | 100% \n",
      "\n",
      "freetype-2.12.1      | 490 KB    |            |   0% \n",
      "freetype-2.12.1      | 490 KB    | ########## | 100% \n",
      "\n",
      "pytorch-mutex-1.0    | 3 KB      |            |   0% \n",
      "pytorch-mutex-1.0    | 3 KB      | ########## | 100% \n",
      "\n",
      "markupsafe-2.1.1     | 26 KB     |            |   0% \n",
      "markupsafe-2.1.1     | 26 KB     | ########## | 100% \n",
      "\n",
      "libtiff-4.5.0        | 1.2 MB    |            |   0% \n",
      "libtiff-4.5.0        | 1.2 MB    | ########## | 100% \n",
      "libtiff-4.5.0        | 1.2 MB    | ########## | 100% \n",
      "\n",
      "jinja2-3.1.2         | 211 KB    |            |   0% \n",
      "jinja2-3.1.2         | 211 KB    | ########## | 100% \n",
      "\n",
      "requests-2.28.1      | 98 KB     |            |   0% \n",
      "requests-2.28.1      | 98 KB     | ########## | 100% \n",
      "\n",
      "libwebp-base-1.2.4   | 304 KB    |            |   0% \n",
      "libwebp-base-1.2.4   | 304 KB    | ########## | 100% \n",
      "\n",
      "zlib-1.2.13          | 113 KB    |            |   0% \n",
      "zlib-1.2.13          | 113 KB    | ########## | 100% \n",
      "\n",
      "jpeg-9e              | 320 KB    |            |   0% \n",
      "jpeg-9e              | 320 KB    | ########## | 100% \n",
      "jpeg-9e              | 320 KB    | ########## | 100% \n",
      "\n",
      "pyopenssl-23.0.0     | 97 KB     |            |   0% \n",
      "pyopenssl-23.0.0     | 97 KB     | ########## | 100% \n",
      "\n",
      "idna-3.4             | 94 KB     |            |   0% \n",
      "idna-3.4             | 94 KB     | ########## | 100% \n",
      "\n",
      "urllib3-1.26.15      | 194 KB    |            |   0% \n",
      "urllib3-1.26.15      | 194 KB    | ########## | 100% \n",
      "\n",
      "numpy-1.23.5         | 11 KB     |            |   0% \n",
      "numpy-1.23.5         | 11 KB     | ########## | 100% \n",
      "\n",
      "flit-core-3.8.0      | 85 KB     |            |   0% \n",
      "flit-core-3.8.0      | 85 KB     | ########## | 100% \n",
      "flit-core-3.8.0      | 85 KB     | ########## | 100% \n",
      "\n",
      "mpmath-1.2.1         | 767 KB    |            |   0% \n",
      "mpmath-1.2.1         | 767 KB    | ########## | 100% \n",
      "mpmath-1.2.1         | 767 KB    | ########## | 100% \n",
      "\n",
      "mkl_random-1.2.2     | 225 KB    |            |   0% \n",
      "mkl_random-1.2.2     | 225 KB    | ########## | 100% \n",
      "\n",
      "mkl_fft-1.3.1        | 139 KB    |            |   0% \n",
      "mkl_fft-1.3.1        | 139 KB    | ########## | 100% \n",
      "\n",
      "torchvision-0.15.0   | 6.5 MB    |            |   0% \n",
      "torchvision-0.15.0   | 6.5 MB    |            |   0% \n",
      "torchvision-0.15.0   | 6.5 MB    | ########## | 100% \n",
      "torchvision-0.15.0   | 6.5 MB    | ########## | 100% \n",
      "\n",
      "lz4-c-1.9.4          | 143 KB    |            |   0% \n",
      "lz4-c-1.9.4          | 143 KB    | ########## | 100% \n",
      "\n",
      "zstd-1.5.4           | 683 KB    |            |   0% \n",
      "zstd-1.5.4           | 683 KB    | ########## | 100% \n",
      "\n",
      "pysocks-1.7.1        | 31 KB     |            |   0% \n",
      "pysocks-1.7.1        | 31 KB     | ########## | 100% \n",
      "\n",
      "cudatoolkit-10.2.89  | 317.2 MB  |            |   0% \n",
      "cudatoolkit-10.2.89  | 317.2 MB  | 1          |   2% \n",
      "cudatoolkit-10.2.89  | 317.2 MB  | 3          |   4% \n",
      "cudatoolkit-10.2.89  | 317.2 MB  | 6          |   6% \n",
      "cudatoolkit-10.2.89  | 317.2 MB  | 9          |   9% \n",
      "cudatoolkit-10.2.89  | 317.2 MB  | #1         |  12% \n",
      "cudatoolkit-10.2.89  | 317.2 MB  | #4         |  14% \n",
      "cudatoolkit-10.2.89  | 317.2 MB  | #7         |  18% \n",
      "cudatoolkit-10.2.89  | 317.2 MB  | ##         |  20% \n",
      "cudatoolkit-10.2.89  | 317.2 MB  | ##2        |  23% \n",
      "cudatoolkit-10.2.89  | 317.2 MB  | ##5        |  25% \n",
      "cudatoolkit-10.2.89  | 317.2 MB  | ##7        |  28% \n",
      "cudatoolkit-10.2.89  | 317.2 MB  | ###        |  30% \n",
      "cudatoolkit-10.2.89  | 317.2 MB  | ###2       |  33% \n",
      "cudatoolkit-10.2.89  | 317.2 MB  | ###5       |  35% \n",
      "cudatoolkit-10.2.89  | 317.2 MB  | ###7       |  38% \n",
      "cudatoolkit-10.2.89  | 317.2 MB  | ####       |  40% \n",
      "cudatoolkit-10.2.89  | 317.2 MB  | ####3      |  43% \n",
      "cudatoolkit-10.2.89  | 317.2 MB  | ####5      |  46% \n",
      "cudatoolkit-10.2.89  | 317.2 MB  | ####7      |  48% \n",
      "cudatoolkit-10.2.89  | 317.2 MB  | #####      |  50% \n",
      "cudatoolkit-10.2.89  | 317.2 MB  | #####2     |  53% \n",
      "cudatoolkit-10.2.89  | 317.2 MB  | #####4     |  55% \n",
      "cudatoolkit-10.2.89  | 317.2 MB  | #####7     |  57% \n",
      "cudatoolkit-10.2.89  | 317.2 MB  | #####9     |  59% \n",
      "cudatoolkit-10.2.89  | 317.2 MB  | ######1    |  62% \n",
      "cudatoolkit-10.2.89  | 317.2 MB  | ######4    |  64% \n",
      "cudatoolkit-10.2.89  | 317.2 MB  | ######6    |  67% \n",
      "cudatoolkit-10.2.89  | 317.2 MB  | ######9    |  69% \n",
      "cudatoolkit-10.2.89  | 317.2 MB  | #######1   |  72% \n",
      "cudatoolkit-10.2.89  | 317.2 MB  | #######4   |  74% \n",
      "cudatoolkit-10.2.89  | 317.2 MB  | #######6   |  77% \n",
      "cudatoolkit-10.2.89  | 317.2 MB  | #######9   |  79% \n",
      "cudatoolkit-10.2.89  | 317.2 MB  | ########1  |  82% \n",
      "cudatoolkit-10.2.89  | 317.2 MB  | ########4  |  85% \n",
      "cudatoolkit-10.2.89  | 317.2 MB  | ########7  |  87% \n",
      "cudatoolkit-10.2.89  | 317.2 MB  | ########9  |  90% \n",
      "cudatoolkit-10.2.89  | 317.2 MB  | #########2 |  92% \n",
      "cudatoolkit-10.2.89  | 317.2 MB  | #########4 |  95% \n",
      "cudatoolkit-10.2.89  | 317.2 MB  | #########6 |  97% \n",
      "cudatoolkit-10.2.89  | 317.2 MB  | #########9 | 100% \n",
      "cudatoolkit-10.2.89  | 317.2 MB  | ########## | 100% \n",
      "\n",
      "brotlipy-0.7.0       | 412 KB    |            |   0% \n",
      "brotlipy-0.7.0       | 412 KB    | ########## | 100% \n",
      "brotlipy-0.7.0       | 412 KB    | ########## | 100% \n",
      "\n",
      "pillow-9.4.0         | 1015 KB   |            |   0% \n",
      "pillow-9.4.0         | 1015 KB   | ########## | 100% \n",
      "pillow-9.4.0         | 1015 KB   | ########## | 100% \n",
      "\n",
      "cffi-1.15.1          | 238 KB    |            |   0% \n",
      "cffi-1.15.1          | 238 KB    | ########## | 100% \n",
      "cffi-1.15.1          | 238 KB    | ########## | 100% \n",
      "\n",
      "cryptography-39.0.1  | 1.0 MB    |            |   0% \n",
      "cryptography-39.0.1  | 1.0 MB    | ########## | 100% \n",
      "cryptography-39.0.1  | 1.0 MB    | ########## | 100% \n",
      "\n",
      "libpng-1.6.39        | 369 KB    |            |   0% \n",
      "libpng-1.6.39        | 369 KB    | ########## | 100% \n",
      "\n",
      "libuv-1.44.2         | 288 KB    |            |   0% \n",
      "libuv-1.44.2         | 288 KB    | ########## | 100% \n",
      "\n",
      "libwebp-1.2.4        | 73 KB     |            |   0% \n",
      "libwebp-1.2.4        | 73 KB     | ########## | 100% \n",
      "\n",
      "typing_extensions-4. | 47 KB     |            |   0% \n",
      "typing_extensions-4. | 47 KB     | ########## | 100% \n",
      "\n",
      "xz-5.2.10            | 520 KB    |            |   0% \n",
      "xz-5.2.10            | 520 KB    | ########## | 100% \n",
      "\n",
      "sympy-1.11.1         | 11.7 MB   |            |   0% \n",
      "sympy-1.11.1         | 11.7 MB   | #####5     |  55% \n",
      "sympy-1.11.1         | 11.7 MB   | ########## | 100% \n",
      "\n",
      "pytorch-2.0.0        | 145.3 MB  |            |   0% \n",
      "pytorch-2.0.0        | 145.3 MB  | 3          |   3% \n",
      "pytorch-2.0.0        | 145.3 MB  | 7          |   8% \n",
      "pytorch-2.0.0        | 145.3 MB  | #4         |  14% \n",
      "pytorch-2.0.0        | 145.3 MB  | ##         |  20% \n",
      "pytorch-2.0.0        | 145.3 MB  | ##5        |  26% \n",
      "pytorch-2.0.0        | 145.3 MB  | ###1       |  32% \n",
      "pytorch-2.0.0        | 145.3 MB  | ###7       |  37% \n",
      "pytorch-2.0.0        | 145.3 MB  | ####2      |  43% \n",
      "pytorch-2.0.0        | 145.3 MB  | ####8      |  49% \n",
      "pytorch-2.0.0        | 145.3 MB  | #####4     |  54% \n",
      "pytorch-2.0.0        | 145.3 MB  | #####9     |  60% \n",
      "pytorch-2.0.0        | 145.3 MB  | ######4    |  65% \n",
      "pytorch-2.0.0        | 145.3 MB  | ######9    |  70% \n",
      "pytorch-2.0.0        | 145.3 MB  | #######4   |  74% \n",
      "pytorch-2.0.0        | 145.3 MB  | #######9   |  79% \n",
      "pytorch-2.0.0        | 145.3 MB  | ########4  |  85% \n",
      "pytorch-2.0.0        | 145.3 MB  | #########  |  91% \n",
      "pytorch-2.0.0        | 145.3 MB  | #########5 |  96% \n",
      "pytorch-2.0.0        | 145.3 MB  | ########## | 100% \n",
      "\n",
      "torchaudio-2.0.0     | 5.4 MB    |            |   0% \n",
      "torchaudio-2.0.0     | 5.4 MB    | #######1   |  72% \n",
      "torchaudio-2.0.0     | 5.4 MB    | ########## | 100% \n",
      "\n",
      "numpy-base-1.23.5    | 6.0 MB    |            |   0% \n",
      "numpy-base-1.23.5    | 6.0 MB    | ########## | 100% \n",
      "numpy-base-1.23.5    | 6.0 MB    | ########## | 100% \n",
      "\n",
      "filelock-3.9.0       | 19 KB     |            |   0% \n",
      "filelock-3.9.0       | 19 KB     | ########## | 100% \n",
      "filelock-3.9.0       | 19 KB     | ########## | 100% \n",
      "\n",
      "networkx-2.8.4       | 2.6 MB    |            |   0% \n",
      "networkx-2.8.4       | 2.6 MB    | ########## | 100% \n",
      "networkx-2.8.4       | 2.6 MB    | ########## | 100% \n",
      "Preparing transaction: ...working... done\n",
      "Verifying transaction: ...working... done\n",
      "Executing transaction: ...working... done\n",
      "Retrieving notices: ...working... done\n",
      "\n",
      "Note: you may need to restart the kernel to use updated packages.\n"
     ]
    },
    {
     "name": "stderr",
     "output_type": "stream",
     "text": [
      "\n",
      "\n",
      "==> WARNING: A newer version of conda exists. <==\n",
      "  current version: 22.9.0\n",
      "  latest version: 23.3.1\n",
      "\n",
      "Please update conda by running\n",
      "\n",
      "    $ conda update -n base -c defaults conda\n",
      "\n",
      "\n"
     ]
    }
   ],
   "source": [
    "# conda install pytorch torchvision torchaudio cudatoolkit=10.2 -c pytorch"
   ]
  },
  {
   "cell_type": "code",
   "execution_count": 23,
   "id": "660c71e7",
   "metadata": {
    "collapsed": true
   },
   "outputs": [
    {
     "name": "stdout",
     "output_type": "stream",
     "text": [
      "Collecting package metadata (current_repodata.json): ...working... done\n",
      "Note: you may need to restart the kernel to use updated packages.\n"
     ]
    },
    {
     "name": "stderr",
     "output_type": "stream",
     "text": [
      "\n",
      "\n",
      "==> WARNING: A newer version of conda exists. <==\n",
      "  current version: 22.9.0\n",
      "  latest version: 23.3.1\n",
      "\n",
      "Please update conda by running\n",
      "\n",
      "    $ conda update -n base -c defaults conda\n",
      "\n",
      "\n"
     ]
    },
    {
     "name": "stdout",
     "output_type": "stream",
     "text": [
      "\n",
      "Solving environment: ...working... done\n",
      "\n",
      "## Package Plan ##\n",
      "\n",
      "  environment location: C:\\Users\\smhrd\\anaconda3\n",
      "\n",
      "  added / updated specs:\n",
      "    - conda\n",
      "\n",
      "\n",
      "The following packages will be downloaded:\n",
      "\n",
      "    package                    |            build\n",
      "    ---------------------------|-----------------\n",
      "    conda-package-handling-2.0.2|   py39haa95532_0         286 KB\n",
      "    conda-package-streaming-0.7.0|   py39haa95532_0          27 KB\n",
      "    conda-repo-cli-1.0.41      |   py39haa95532_0         142 KB\n",
      "    zstandard-0.19.0           |   py39h2bbff1b_0         340 KB\n",
      "    ------------------------------------------------------------\n",
      "                                           Total:         795 KB\n",
      "\n",
      "The following NEW packages will be INSTALLED:\n",
      "\n",
      "  conda-package-str~ pkgs/main/win-64::conda-package-streaming-0.7.0-py39haa95532_0 None\n",
      "  zstandard          pkgs/main/win-64::zstandard-0.19.0-py39h2bbff1b_0 None\n",
      "\n",
      "The following packages will be UPDATED:\n",
      "\n",
      "  conda-package-han~                   1.9.0-py39h8cc25b3_0 --> 2.0.2-py39haa95532_0 None\n",
      "  conda-repo-cli                      1.0.20-py39haa95532_0 --> 1.0.41-py39haa95532_0 None\n",
      "\n",
      "\n",
      "\n",
      "Downloading and Extracting Packages\n",
      "\n",
      "zstandard-0.19.0     | 340 KB    |            |   0% \n",
      "zstandard-0.19.0     | 340 KB    | ########## | 100% \n",
      "zstandard-0.19.0     | 340 KB    | ########## | 100% \n",
      "\n",
      "conda-package-handli | 286 KB    |            |   0% \n",
      "conda-package-handli | 286 KB    | ########## | 100% \n",
      "\n",
      "conda-package-stream | 27 KB     |            |   0% \n",
      "conda-package-stream | 27 KB     | ########## | 100% \n",
      "\n",
      "conda-repo-cli-1.0.4 | 142 KB    |            |   0% \n",
      "conda-repo-cli-1.0.4 | 142 KB    | ########## | 100% \n",
      "conda-repo-cli-1.0.4 | 142 KB    | ########## | 100% \n",
      "Preparing transaction: ...working... done\n",
      "Verifying transaction: ...working... done\n",
      "Executing transaction: ...working... done\n",
      "Retrieving notices: ...working... done\n"
     ]
    }
   ],
   "source": [
    "# conda update -n base -c defaults conda"
   ]
  },
  {
   "cell_type": "code",
   "execution_count": 2,
   "id": "1a94711c",
   "metadata": {},
   "outputs": [
    {
     "name": "stdout",
     "output_type": "stream",
     "text": [
      "Collecting chardet\n",
      "  Downloading chardet-5.1.0-py3-none-any.whl (199 kB)\n",
      "     ---------------------------------------- 0.0/199.1 kB ? eta -:--:--\n",
      "     ------------------------------------- 199.1/199.1 kB 12.6 MB/s eta 0:00:00\n",
      "Installing collected packages: chardet\n",
      "Successfully installed chardet-5.1.0\n"
     ]
    }
   ],
   "source": [
    "# !pip install chardet"
   ]
  },
  {
   "cell_type": "code",
   "execution_count": 1,
   "id": "f4691073",
   "metadata": {},
   "outputs": [
    {
     "name": "stdout",
     "output_type": "stream",
     "text": [
      "Requirement already satisfied: huggingface_hub in c:\\users\\smhrd\\anaconda3\\envs\\py_38\\lib\\site-packages (0.13.4)\n",
      "Requirement already satisfied: tqdm>=4.42.1 in c:\\users\\smhrd\\anaconda3\\envs\\py_38\\lib\\site-packages (from huggingface_hub) (4.65.0)\n",
      "Requirement already satisfied: filelock in c:\\users\\smhrd\\anaconda3\\envs\\py_38\\lib\\site-packages (from huggingface_hub) (3.11.0)\n",
      "Requirement already satisfied: packaging>=20.9 in c:\\users\\smhrd\\anaconda3\\envs\\py_38\\lib\\site-packages (from huggingface_hub) (23.0)\n",
      "Requirement already satisfied: typing-extensions>=3.7.4.3 in c:\\users\\smhrd\\anaconda3\\envs\\py_38\\lib\\site-packages (from huggingface_hub) (4.5.0)\n",
      "Requirement already satisfied: requests in c:\\users\\smhrd\\anaconda3\\envs\\py_38\\lib\\site-packages (from huggingface_hub) (2.28.2)\n",
      "Requirement already satisfied: pyyaml>=5.1 in c:\\users\\smhrd\\anaconda3\\envs\\py_38\\lib\\site-packages (from huggingface_hub) (6.0)\n",
      "Requirement already satisfied: colorama in c:\\users\\smhrd\\anaconda3\\envs\\py_38\\lib\\site-packages (from tqdm>=4.42.1->huggingface_hub) (0.4.6)\n",
      "Requirement already satisfied: charset-normalizer<4,>=2 in c:\\users\\smhrd\\anaconda3\\envs\\py_38\\lib\\site-packages (from requests->huggingface_hub) (3.1.0)\n",
      "Requirement already satisfied: idna<4,>=2.5 in c:\\users\\smhrd\\anaconda3\\envs\\py_38\\lib\\site-packages (from requests->huggingface_hub) (3.4)\n",
      "Requirement already satisfied: certifi>=2017.4.17 in c:\\users\\smhrd\\anaconda3\\envs\\py_38\\lib\\site-packages (from requests->huggingface_hub) (2022.12.7)\n",
      "Requirement already satisfied: urllib3<1.27,>=1.21.1 in c:\\users\\smhrd\\anaconda3\\envs\\py_38\\lib\\site-packages (from requests->huggingface_hub) (1.26.15)\n"
     ]
    }
   ],
   "source": [
    "#!pip install huggingface_hub"
   ]
  },
  {
   "cell_type": "code",
   "execution_count": 2,
   "id": "02aee316",
   "metadata": {},
   "outputs": [],
   "source": [
    "from transformers import AutoTokenizer, AutoModelForSequenceClassification"
   ]
  },
  {
   "cell_type": "code",
   "execution_count": null,
   "id": "800d7480",
   "metadata": {},
   "outputs": [],
   "source": []
  },
  {
   "cell_type": "code",
   "execution_count": 7,
   "id": "3c9dcd07",
   "metadata": {},
   "outputs": [],
   "source": [
    "import time\n",
    "from selenium import webdriver\n",
    "from webdriver_manager.chrome import ChromeDriverManager\n",
    "from selenium.webdriver.chrome.service import Service\n",
    "from selenium.webdriver.common.by import By\n",
    "from selenium.common.exceptions import NoSuchElementException"
   ]
  },
  {
   "cell_type": "code",
   "execution_count": 8,
   "id": "0ef0fe2b",
   "metadata": {},
   "outputs": [],
   "source": [
    "import warnings\n",
    "warnings.filterwarnings('ignore') # to avoid warnings"
   ]
  },
  {
   "cell_type": "code",
   "execution_count": 24,
   "id": "5f0dcbb5",
   "metadata": {},
   "outputs": [],
   "source": [
    "\"\"\"\n",
    "To install a library, run the following command: \n",
    "!pip install library_name\n",
    "\"\"\"\n",
    "import warnings\n",
    "warnings.filterwarnings('ignore') # to avoid warnings\n",
    "\n",
    "import random\n",
    "import pandas as pd\n",
    "from tqdm import tqdm\n",
    "import seaborn as sns\n",
    "import matplotlib.pyplot as plt\n",
    "\n",
    "\"\"\"\n",
    "Sklearn Libraries\n",
    "\"\"\"\n",
    "from sklearn.metrics import f1_score\n",
    "from sklearn.model_selection import train_test_split\n",
    "\n",
    "\"\"\"\n",
    "Transformer Libraries\n",
    "\"\"\"\n",
    "from transformers import BertTokenizer,  AutoModelForSequenceClassification, AdamW, get_linear_schedule_with_warmup\n",
    "\n",
    "\"\"\"\n",
    "Pytorch Libraries\n",
    "\"\"\"\n",
    "import torch\n",
    "from torch.utils.data import DataLoader, RandomSampler, SequentialSampler"
   ]
  },
  {
   "cell_type": "code",
   "execution_count": 8,
   "id": "8ea25c97",
   "metadata": {},
   "outputs": [],
   "source": [
    "from selenium import webdriver\n",
    "from selenium.common.exceptions import NoSuchElementException\n",
    "\n",
    "def set_chrome_driver(headless=True):\n",
    "    options = webdriver.ChromeOptions()\n",
    "    if headless:\n",
    "        options.add_argument('--headless')\n",
    "    options.add_argument('--disable-gpu')\n",
    "    options.add_argument('--no-sandbox')\n",
    "    options.add_argument('--disable-dev-shm-usage')\n",
    "    driver = webdriver.Chrome(options=options)\n",
    "    return driver\n"
   ]
  },
  {
   "cell_type": "code",
   "execution_count": 3,
   "id": "f93e83d5",
   "metadata": {},
   "outputs": [
    {
     "data": {
      "application/vnd.jupyter.widget-view+json": {
       "model_id": "1fd9df4e2e564bf6bd460f15f102bd91",
       "version_major": 2,
       "version_minor": 0
      },
      "text/plain": [
       "Downloading pytorch_model.bin:   0%|          | 0.00/438M [00:00<?, ?B/s]"
      ]
     },
     "metadata": {},
     "output_type": "display_data"
    },
    {
     "name": "stderr",
     "output_type": "stream",
     "text": [
      "C:\\Users\\smhrd\\anaconda3\\envs\\py_38\\lib\\site-packages\\huggingface_hub\\file_download.py:133: UserWarning: `huggingface_hub` cache-system uses symlinks by default to efficiently store duplicated files but your machine does not support them in C:\\Users\\smhrd\\.cache\\huggingface\\hub. Caching files will still work but in a degraded version that might require more space on your disk. This warning can be disabled by setting the `HF_HUB_DISABLE_SYMLINKS_WARNING` environment variable. For more details, see https://huggingface.co/docs/huggingface_hub/how-to-cache#limitations.\n",
      "To support symlinks on Windows, you either need to activate Developer Mode or to run Python as an administrator. In order to see activate developer mode, see this article: https://docs.microsoft.com/en-us/windows/apps/get-started/enable-your-device-for-development\n",
      "  warnings.warn(message)\n"
     ]
    }
   ],
   "source": [
    "# 허깅페이스 - finbert\n",
    "from transformers import AutoTokenizer, AutoModelForSequenceClassification\n",
    "\n",
    "tokenizer = AutoTokenizer.from_pretrained(\"ProsusAI/finbert\")\n",
    "\n",
    "model = AutoModelForSequenceClassification.from_pretrained(\"ProsusAI/finbert\")"
   ]
  },
  {
   "cell_type": "code",
   "execution_count": 9,
   "id": "cacd0dc6",
   "metadata": {},
   "outputs": [],
   "source": [
    "def crawl_page(url):\n",
    "    try:\n",
    "        driver = set_chrome_driver(False) # Chrome 웹 드라이버 인스턴스 생성\n",
    "        driver.get(url)  # 지정된 URL을 웹 드라이버에서 열기\n",
    "        # 요소 변경 가능\n",
    "        article_page = driver.find_element(By.CLASS_NAME, 'articlePage') # class 이름으로 뉴스 기사 페이지 요소 찾기\n",
    "        text = article_page.text # 뉴스 기사 페이지 요소에서 텍스트 추출\n",
    "        driver.close() # 텍스트 추출 후 웹 드라이버 닫기\n",
    "    except NoSuchElementException: \n",
    "        text = \"\"  # 뉴스 기사 페이지 요소가 없을 경우 텍스트를 빈 문자열로 설정\n",
    "    return text  # 추출된 텍스트 반환"
   ]
  },
  {
   "cell_type": "code",
   "execution_count": 11,
   "id": "ebe3b92e",
   "metadata": {},
   "outputs": [
    {
     "ename": "NameError",
     "evalue": "name 'By' is not defined",
     "output_type": "error",
     "traceback": [
      "\u001b[1;31m---------------------------------------------------------------------------\u001b[0m",
      "\u001b[1;31mNameError\u001b[0m                                 Traceback (most recent call last)",
      "Cell \u001b[1;32mIn[11], line 1\u001b[0m\n\u001b[1;32m----> 1\u001b[0m page \u001b[38;5;241m=\u001b[39m \u001b[43mcrawl_page\u001b[49m\u001b[43m(\u001b[49m\u001b[38;5;124;43m'\u001b[39;49m\u001b[38;5;124;43mhttps://www.investing.com/analysis/traders-send-wheat-prices-spiking-as-allied-tanks-aid-to-roll-into-ukraine-200634894\u001b[39;49m\u001b[38;5;124;43m'\u001b[39;49m\u001b[43m)\u001b[49m  \u001b[38;5;66;03m# 뉴스 페이지 크롤링\u001b[39;00m\n\u001b[0;32m      2\u001b[0m text_data \u001b[38;5;241m=\u001b[39m \u001b[38;5;28mstr\u001b[39m(page) \u001b[38;5;66;03m# 크롤링한 데이터를 문자열로 변환\u001b[39;00m\n",
      "Cell \u001b[1;32mIn[9], line 6\u001b[0m, in \u001b[0;36mcrawl_page\u001b[1;34m(url)\u001b[0m\n\u001b[0;32m      4\u001b[0m driver\u001b[38;5;241m.\u001b[39mget(url)  \u001b[38;5;66;03m# 지정된 URL을 웹 드라이버에서 열기\u001b[39;00m\n\u001b[0;32m      5\u001b[0m \u001b[38;5;66;03m# 요소 변경 가능\u001b[39;00m\n\u001b[1;32m----> 6\u001b[0m article_page \u001b[38;5;241m=\u001b[39m driver\u001b[38;5;241m.\u001b[39mfind_element(\u001b[43mBy\u001b[49m\u001b[38;5;241m.\u001b[39mCLASS_NAME, \u001b[38;5;124m'\u001b[39m\u001b[38;5;124marticlePage\u001b[39m\u001b[38;5;124m'\u001b[39m) \u001b[38;5;66;03m# class 이름으로 뉴스 기사 페이지 요소 찾기\u001b[39;00m\n\u001b[0;32m      7\u001b[0m text \u001b[38;5;241m=\u001b[39m article_page\u001b[38;5;241m.\u001b[39mtext \u001b[38;5;66;03m# 뉴스 기사 페이지 요소에서 텍스트 추출\u001b[39;00m\n\u001b[0;32m      8\u001b[0m driver\u001b[38;5;241m.\u001b[39mclose() \u001b[38;5;66;03m# 텍스트 추출 후 웹 드라이버 닫기\u001b[39;00m\n",
      "\u001b[1;31mNameError\u001b[0m: name 'By' is not defined"
     ]
    }
   ],
   "source": [
    "page = crawl_page('https://www.investing.com/analysis/traders-send-wheat-prices-spiking-as-allied-tanks-aid-to-roll-into-ukraine-200634894')  # 뉴스 페이지 크롤링\n",
    "text_data = str(page) # 크롤링한 데이터를 문자열로 변환"
   ]
  },
  {
   "cell_type": "code",
   "execution_count": null,
   "id": "8a01fd5e",
   "metadata": {},
   "outputs": [],
   "source": [
    "encoded_text = tokenizer(text_data, padding=True, truncation=True, return_tensors='pt')"
   ]
  },
  {
   "cell_type": "code",
   "execution_count": null,
   "id": "e069093f",
   "metadata": {},
   "outputs": [],
   "source": [
    "def show_random_headlines(total_number, df):\n",
    "    \n",
    "    # Get the random number of reviews\n",
    "    n_reviews = df.sample(total_number)\n",
    "    \n",
    "    # Print each one of the reviews\n",
    "    for val in list(n_reviews.index):\n",
    "        print(\"Reviews #°{}\".format(val))\n",
    "        print(\" - Sentiment: {}\".format(df.iloc[val][\"sentiment\"]))\n",
    "        print(\" - News Headline: {}\".format(df.iloc[val][\"NewsHeadline\"]))\n",
    "        print(\"\")"
   ]
  },
  {
   "cell_type": "code",
   "execution_count": null,
   "id": "c2102d7d",
   "metadata": {},
   "outputs": [],
   "source": []
  },
  {
   "cell_type": "code",
   "execution_count": null,
   "id": "de1e6552",
   "metadata": {},
   "outputs": [],
   "source": []
  },
  {
   "cell_type": "code",
   "execution_count": null,
   "id": "589e2c48",
   "metadata": {},
   "outputs": [],
   "source": []
  }
 ],
 "metadata": {
  "kernelspec": {
   "display_name": "Python 3 (ipykernel)",
   "language": "python",
   "name": "python3"
  },
  "language_info": {
   "codemirror_mode": {
    "name": "ipython",
    "version": 3
   },
   "file_extension": ".py",
   "mimetype": "text/x-python",
   "name": "python",
   "nbconvert_exporter": "python",
   "pygments_lexer": "ipython3",
   "version": "3.8.0"
  },
  "toc": {
   "base_numbering": 1,
   "nav_menu": {},
   "number_sections": true,
   "sideBar": true,
   "skip_h1_title": false,
   "title_cell": "Table of Contents",
   "title_sidebar": "Contents",
   "toc_cell": false,
   "toc_position": {},
   "toc_section_display": true,
   "toc_window_display": false
  }
 },
 "nbformat": 4,
 "nbformat_minor": 5
}
