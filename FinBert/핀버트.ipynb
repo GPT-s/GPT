{
 "cells": [
  {
   "cell_type": "code",
   "execution_count": 3,
   "id": "33e2e6ee",
   "metadata": {},
   "outputs": [],
   "source": [
    "# !pip install selenium"
   ]
  },
  {
   "cell_type": "code",
   "execution_count": 4,
   "id": "6851d0fe",
   "metadata": {},
   "outputs": [],
   "source": [
    "# !pip install webdriver_manager"
   ]
  },
  {
   "cell_type": "code",
   "execution_count": 5,
   "id": "7f0e1c9f",
   "metadata": {},
   "outputs": [],
   "source": [
    "# !pip install pandas"
   ]
  },
  {
   "cell_type": "code",
   "execution_count": 6,
   "id": "41e8b33e",
   "metadata": {},
   "outputs": [],
   "source": [
    "# !pip install seaborn"
   ]
  },
  {
   "cell_type": "code",
   "execution_count": 7,
   "id": "e96e1992",
   "metadata": {},
   "outputs": [],
   "source": [
    "# !pip install sklearn"
   ]
  },
  {
   "cell_type": "code",
   "execution_count": 8,
   "id": "c02ad229",
   "metadata": {},
   "outputs": [],
   "source": [
    "# !pip install scikit-learn"
   ]
  },
  {
   "cell_type": "code",
   "execution_count": 9,
   "id": "2927dfb5",
   "metadata": {},
   "outputs": [],
   "source": [
    "# !pip install transformers"
   ]
  },
  {
   "cell_type": "code",
   "execution_count": 10,
   "id": "b2895668",
   "metadata": {},
   "outputs": [],
   "source": [
    "# conda install pytorch torchvision torchaudio cudatoolkit=10.2 -c pytorch"
   ]
  },
  {
   "cell_type": "code",
   "execution_count": 11,
   "id": "660c71e7",
   "metadata": {},
   "outputs": [],
   "source": [
    "# conda update -n base -c defaults conda"
   ]
  },
  {
   "cell_type": "code",
   "execution_count": 12,
   "id": "1a94711c",
   "metadata": {},
   "outputs": [],
   "source": [
    "# !pip install chardet"
   ]
  },
  {
   "cell_type": "code",
   "execution_count": 13,
   "id": "f4691073",
   "metadata": {},
   "outputs": [],
   "source": [
    "# !pip install huggingface_hub"
   ]
  },
  {
   "cell_type": "code",
   "execution_count": 25,
   "id": "274a4f5b",
   "metadata": {},
   "outputs": [],
   "source": [
    "# !pip install finbert"
   ]
  },
  {
   "cell_type": "code",
   "execution_count": 26,
   "id": "6ba7e26f",
   "metadata": {},
   "outputs": [],
   "source": [
    "# !pip install tensorflow"
   ]
  },
  {
   "cell_type": "code",
   "execution_count": 17,
   "id": "0ef0fe2b",
   "metadata": {},
   "outputs": [],
   "source": []
  },
  {
   "cell_type": "code",
   "execution_count": 33,
   "id": "5f0dcbb5",
   "metadata": {},
   "outputs": [],
   "source": [
    "import warnings\n",
    "import random\n",
    "import pandas as pd\n",
    "from tqdm import tqdm\n",
    "import seaborn as sns\n",
    "import matplotlib.pyplot as plt\n",
    "from sklearn.metrics import f1_score\n",
    "from sklearn.model_selection import train_test_split\n",
    "from transformers import BertTokenizer,  AutoModelForSequenceClassification, AdamW, get_linear_schedule_with_warmup\n",
    "import torch\n",
    "from torch.utils.data import DataLoader, RandomSampler, SequentialSampler\n",
    "import time\n",
    "from selenium import webdriver\n",
    "from webdriver_manager.chrome import ChromeDriverManager\n",
    "from selenium.webdriver.chrome.service import Service\n",
    "from selenium.webdriver.common.by import By\n",
    "from selenium.common.exceptions import NoSuchElementException\n",
    "from transformers import AutoTokenizer, AutoModelForSequenceClassification\n",
    "\n",
    "# 허깅페이스 - finbert\n",
    "from transformers import AutoTokenizer, AutoModelForSequenceClassification\n"
   ]
  },
  {
   "cell_type": "code",
   "execution_count": 35,
   "id": "004e4c61",
   "metadata": {},
   "outputs": [],
   "source": [
    "warnings.filterwarnings('ignore') # warning 무시\n",
    "\n",
    "tokenizer = AutoTokenizer.from_pretrained(\"ProsusAI/finbert\")\n",
    "model = AutoModelForSequenceClassification.from_pretrained(\"ProsusAI/finbert\")"
   ]
  },
  {
   "cell_type": "code",
   "execution_count": 36,
   "id": "8ea25c97",
   "metadata": {},
   "outputs": [],
   "source": [
    "def set_chrome_driver(headless=True):\n",
    "    options = webdriver.ChromeOptions()\n",
    "    if headless:\n",
    "        options.add_argument('--headless')\n",
    "    options.add_argument('--disable-gpu')\n",
    "    options.add_argument('--no-sandbox')\n",
    "    options.add_argument('--disable-dev-shm-usage')\n",
    "    driver = webdriver.Chrome(options=options)\n",
    "    return driver\n"
   ]
  },
  {
   "cell_type": "code",
   "execution_count": 37,
   "id": "cacd0dc6",
   "metadata": {},
   "outputs": [],
   "source": [
    "def crawl_page(url):\n",
    "    try:\n",
    "        driver = set_chrome_driver(False) # Chrome 웹 드라이버 인스턴스 생성\n",
    "        driver.get(url)  # 지정된 URL을 웹 드라이버에서 열기\n",
    "        # 요소 변경 가능\n",
    "        article_page = driver.find_element(By.CLASS_NAME, 'articlePage') # class 이름으로 뉴스 기사 페이지 요소 찾기\n",
    "        text = article_page.text # 뉴스 기사 페이지 요소에서 텍스트 추출\n",
    "        driver.close() # 텍스트 추출 후 웹 드라이버 닫기\n",
    "    except NoSuchElementException: \n",
    "        text = \"\"  # 뉴스 기사 페이지 요소가 없을 경우 텍스트를 빈 문자열로 설정\n",
    "    return text  # 추출된 텍스트 반환"
   ]
  },
  {
   "cell_type": "code",
   "execution_count": 38,
   "id": "ebe3b92e",
   "metadata": {},
   "outputs": [],
   "source": [
    "page = crawl_page('https://www.investing.com/analysis/traders-send-wheat-prices-spiking-as-allied-tanks-aid-to-roll-into-ukraine-200634894')  # 뉴스 페이지 크롤링\n",
    "text_data = str(page) # 크롤링한 데이터를 문자열로 변환\n"
   ]
  },
  {
   "cell_type": "code",
   "execution_count": 39,
   "id": "8a01fd5e",
   "metadata": {},
   "outputs": [],
   "source": [
    "encoded_text = tokenizer(text_data, padding=True, truncation=True, return_tensors='pt')"
   ]
  },
  {
   "cell_type": "code",
   "execution_count": 40,
   "id": "e069093f",
   "metadata": {},
   "outputs": [],
   "source": [
    "def show_random_headlines(total_number, df):\n",
    "    \n",
    "    # Get the random number of reviews\n",
    "    n_reviews = df.sample(total_number)\n",
    "    \n",
    "    # Print each one of the reviews\n",
    "    for val in list(n_reviews.index):\n",
    "        print(\"Reviews #°{}\".format(val))\n",
    "        print(\" - Sentiment: {}\".format(df.iloc[val][\"sentiment\"]))\n",
    "        print(\" - News Headline: {}\".format(df.iloc[val][\"NewsHeadline\"]))\n",
    "        print(\"\")"
   ]
  },
  {
   "cell_type": "code",
   "execution_count": null,
   "id": "c2102d7d",
   "metadata": {},
   "outputs": [],
   "source": []
  },
  {
   "cell_type": "code",
   "execution_count": null,
   "id": "de1e6552",
   "metadata": {},
   "outputs": [],
   "source": []
  },
  {
   "cell_type": "code",
   "execution_count": null,
   "id": "589e2c48",
   "metadata": {},
   "outputs": [],
   "source": []
  }
 ],
 "metadata": {
  "kernelspec": {
   "display_name": "Python 3 (ipykernel)",
   "language": "python",
   "name": "python3"
  },
  "language_info": {
   "codemirror_mode": {
    "name": "ipython",
    "version": 3
   },
   "file_extension": ".py",
   "mimetype": "text/x-python",
   "name": "python",
   "nbconvert_exporter": "python",
   "pygments_lexer": "ipython3",
   "version": "3.8.0"
  },
  "toc": {
   "base_numbering": 1,
   "nav_menu": {},
   "number_sections": true,
   "sideBar": true,
   "skip_h1_title": false,
   "title_cell": "Table of Contents",
   "title_sidebar": "Contents",
   "toc_cell": false,
   "toc_position": {},
   "toc_section_display": true,
   "toc_window_display": false
  }
 },
 "nbformat": 4,
 "nbformat_minor": 5
}
